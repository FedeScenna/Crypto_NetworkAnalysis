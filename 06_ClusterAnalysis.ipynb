{
 "cells": [
  {
   "cell_type": "code",
   "execution_count": 75,
   "metadata": {},
   "outputs": [],
   "source": [
    "import pandas as pd\n",
    "from tslearn.clustering import TimeSeriesKMeans, silhouette_score\n",
    "from tslearn.utils import to_time_series_dataset\n"
   ]
  },
  {
   "attachments": {},
   "cell_type": "markdown",
   "metadata": {},
   "source": [
    "### Read data"
   ]
  },
  {
   "cell_type": "code",
   "execution_count": 76,
   "metadata": {},
   "outputs": [
    {
     "data": {
      "text/html": [
       "<div>\n",
       "<style scoped>\n",
       "    .dataframe tbody tr th:only-of-type {\n",
       "        vertical-align: middle;\n",
       "    }\n",
       "\n",
       "    .dataframe tbody tr th {\n",
       "        vertical-align: top;\n",
       "    }\n",
       "\n",
       "    .dataframe thead th {\n",
       "        text-align: right;\n",
       "    }\n",
       "</style>\n",
       "<table border=\"1\" class=\"dataframe\">\n",
       "  <thead>\n",
       "    <tr style=\"text-align: right;\">\n",
       "      <th></th>\n",
       "      <th>time</th>\n",
       "      <th>high</th>\n",
       "      <th>low</th>\n",
       "      <th>open</th>\n",
       "      <th>volumefrom</th>\n",
       "      <th>volumeto</th>\n",
       "      <th>close</th>\n",
       "      <th>conversion_type</th>\n",
       "      <th>conversion_symbol</th>\n",
       "      <th>coin</th>\n",
       "      <th>daily_return_pct</th>\n",
       "      <th>intraday_return</th>\n",
       "      <th>daily_log_return</th>\n",
       "    </tr>\n",
       "  </thead>\n",
       "  <tbody>\n",
       "    <tr>\n",
       "      <th>0</th>\n",
       "      <td>2020-08-22</td>\n",
       "      <td>0.1262</td>\n",
       "      <td>0.1183</td>\n",
       "      <td>0.1229</td>\n",
       "      <td>84207229.64</td>\n",
       "      <td>10373929.94</td>\n",
       "      <td>0.1253</td>\n",
       "      <td>direct</td>\n",
       "      <td>NaN</td>\n",
       "      <td>ADA</td>\n",
       "      <td>0.019528</td>\n",
       "      <td>0.019528</td>\n",
       "      <td>0.019340</td>\n",
       "    </tr>\n",
       "    <tr>\n",
       "      <th>1</th>\n",
       "      <td>2020-08-23</td>\n",
       "      <td>0.1259</td>\n",
       "      <td>0.1195</td>\n",
       "      <td>0.1253</td>\n",
       "      <td>64772529.12</td>\n",
       "      <td>7945897.18</td>\n",
       "      <td>0.1215</td>\n",
       "      <td>direct</td>\n",
       "      <td>NaN</td>\n",
       "      <td>ADA</td>\n",
       "      <td>-0.030327</td>\n",
       "      <td>-0.030327</td>\n",
       "      <td>-0.030797</td>\n",
       "    </tr>\n",
       "    <tr>\n",
       "      <th>2</th>\n",
       "      <td>2020-08-24</td>\n",
       "      <td>0.1270</td>\n",
       "      <td>0.1201</td>\n",
       "      <td>0.1215</td>\n",
       "      <td>77809944.45</td>\n",
       "      <td>9662533.63</td>\n",
       "      <td>0.1237</td>\n",
       "      <td>direct</td>\n",
       "      <td>NaN</td>\n",
       "      <td>ADA</td>\n",
       "      <td>0.018107</td>\n",
       "      <td>0.018107</td>\n",
       "      <td>0.017945</td>\n",
       "    </tr>\n",
       "    <tr>\n",
       "      <th>3</th>\n",
       "      <td>2020-08-25</td>\n",
       "      <td>0.1238</td>\n",
       "      <td>0.1063</td>\n",
       "      <td>0.1237</td>\n",
       "      <td>65939158.71</td>\n",
       "      <td>7699604.99</td>\n",
       "      <td>0.1126</td>\n",
       "      <td>direct</td>\n",
       "      <td>NaN</td>\n",
       "      <td>ADA</td>\n",
       "      <td>-0.089733</td>\n",
       "      <td>-0.089733</td>\n",
       "      <td>-0.094018</td>\n",
       "    </tr>\n",
       "    <tr>\n",
       "      <th>4</th>\n",
       "      <td>2020-08-26</td>\n",
       "      <td>0.1183</td>\n",
       "      <td>0.1107</td>\n",
       "      <td>0.1126</td>\n",
       "      <td>21686624.36</td>\n",
       "      <td>2483949.36</td>\n",
       "      <td>0.1144</td>\n",
       "      <td>direct</td>\n",
       "      <td>NaN</td>\n",
       "      <td>ADA</td>\n",
       "      <td>0.015986</td>\n",
       "      <td>0.015986</td>\n",
       "      <td>0.015859</td>\n",
       "    </tr>\n",
       "  </tbody>\n",
       "</table>\n",
       "</div>"
      ],
      "text/plain": [
       "         time    high     low    open   volumefrom     volumeto   close  \\\n",
       "0  2020-08-22  0.1262  0.1183  0.1229  84207229.64  10373929.94  0.1253   \n",
       "1  2020-08-23  0.1259  0.1195  0.1253  64772529.12   7945897.18  0.1215   \n",
       "2  2020-08-24  0.1270  0.1201  0.1215  77809944.45   9662533.63  0.1237   \n",
       "3  2020-08-25  0.1238  0.1063  0.1237  65939158.71   7699604.99  0.1126   \n",
       "4  2020-08-26  0.1183  0.1107  0.1126  21686624.36   2483949.36  0.1144   \n",
       "\n",
       "  conversion_type conversion_symbol coin  daily_return_pct  intraday_return  \\\n",
       "0          direct               NaN  ADA          0.019528         0.019528   \n",
       "1          direct               NaN  ADA         -0.030327        -0.030327   \n",
       "2          direct               NaN  ADA          0.018107         0.018107   \n",
       "3          direct               NaN  ADA         -0.089733        -0.089733   \n",
       "4          direct               NaN  ADA          0.015986         0.015986   \n",
       "\n",
       "   daily_log_return  \n",
       "0          0.019340  \n",
       "1         -0.030797  \n",
       "2          0.017945  \n",
       "3         -0.094018  \n",
       "4          0.015859  "
      ]
     },
     "execution_count": 76,
     "metadata": {},
     "output_type": "execute_result"
    }
   ],
   "source": [
    "df = pd.read_csv(\"all_coins_data.csv\")\n",
    "df.sort_values([\"coin\", \"time\"], inplace = True)\n",
    "df.head()"
   ]
  },
  {
   "attachments": {},
   "cell_type": "markdown",
   "metadata": {},
   "source": [
    "### Generate Dataset"
   ]
  },
  {
   "cell_type": "code",
   "execution_count": 77,
   "metadata": {},
   "outputs": [],
   "source": [
    "def generate_ts(df, tsfield, value):\n",
    "    initstr = \"\"\n",
    "    for val in df[tsfield].drop_duplicates():\n",
    "        initstr += \"df[df['{}']=='{}']['{}'].tolist(),\".format(str(tsfield),str(val), str(value))\n",
    "    return(initstr)\n"
   ]
  },
  {
   "cell_type": "code",
   "execution_count": 78,
   "metadata": {},
   "outputs": [
    {
     "data": {
      "text/plain": [
       "array([[[ 0.01933985, -0.0307966 ,  0.01794502, ..., -0.05024471,\n",
       "          0.01215293, -0.02711141],\n",
       "        [ 0.06170966,  0.0836861 ,  0.02587945, ..., -0.03866028,\n",
       "          0.00085653, -0.03573365],\n",
       "        [ 0.13622624,  0.2839385 , -0.03920196, ..., -0.0442896 ,\n",
       "          0.09011435, -0.0453152 ],\n",
       "        ...,\n",
       "        [ 0.05425351, -0.01747508,  0.0453044 , ..., -0.07714103,\n",
       "         -0.02356425, -0.036744  ],\n",
       "        [ 0.13490108, -0.11671084,  0.14539829, ...,  0.00061131,\n",
       "         -0.0479783 , -0.03572602],\n",
       "        [ 0.04483624,  0.09358182, -0.04992232, ..., -0.05757453,\n",
       "         -0.01487033, -0.04664934]]])"
      ]
     },
     "execution_count": 78,
     "metadata": {},
     "output_type": "execute_result"
    }
   ],
   "source": [
    "dfts = to_time_series_dataset([eval(generate_ts(df=df, tsfield=\"coin\", value=\"daily_log_return\"))])"
   ]
  },
  {
   "attachments": {},
   "cell_type": "markdown",
   "metadata": {},
   "source": [
    "### Clustering"
   ]
  },
  {
   "cell_type": "code",
   "execution_count": 91,
   "metadata": {},
   "outputs": [],
   "source": [
    "n_clusters = range(3,100)"
   ]
  },
  {
   "cell_type": "code",
   "execution_count": 93,
   "metadata": {},
   "outputs": [
    {
     "name": "stdout",
     "output_type": "stream",
     "text": [
      "3  Clusters labels 1\n"
     ]
    }
   ],
   "source": [
    "for c in n_clusters:\n",
    "    km = TimeSeriesKMeans(n_clusters=c, metric=\"dtw\")\n",
    "    labels = km.fit_predict(dfts)\n",
    "    print(c, \" Clusters\", \"labels\", len(labels))\n",
    "    #silhouette_score(dfts, labels, metric=\"dtw\")\n"
   ]
  },
  {
   "cell_type": "code",
   "execution_count": null,
   "metadata": {},
   "outputs": [],
   "source": []
  }
 ],
 "metadata": {
  "kernelspec": {
   "display_name": "base",
   "language": "python",
   "name": "python3"
  },
  "language_info": {
   "codemirror_mode": {
    "name": "ipython",
    "version": 3
   },
   "file_extension": ".py",
   "mimetype": "text/x-python",
   "name": "python",
   "nbconvert_exporter": "python",
   "pygments_lexer": "ipython3",
   "version": "3.10.6"
  },
  "orig_nbformat": 4
 },
 "nbformat": 4,
 "nbformat_minor": 2
}
