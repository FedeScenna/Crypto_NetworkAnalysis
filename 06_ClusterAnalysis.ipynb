{
 "cells": [
  {
   "cell_type": "code",
   "execution_count": 1,
   "metadata": {},
   "outputs": [],
   "source": [
    "import pandas as pd\n",
    "import numpy as np\n",
    "import matplotlib.pyplot as plt\n",
    "from sklearn.preprocessing import StandardScaler\n",
    "from sklearn.metrics import silhouette_score\n",
    "import datetime as dt\n",
    "from tsfresh import extract_features\n",
    "from utils import chart_ts\n",
    "from sklearn.decomposition import PCA\n",
    "from sklearn.cluster import KMeans"
   ]
  },
  {
   "cell_type": "markdown",
   "metadata": {},
   "source": [
    "## Data processing"
   ]
  },
  {
   "attachments": {},
   "cell_type": "markdown",
   "metadata": {},
   "source": [
    "### Read data"
   ]
  },
  {
   "cell_type": "code",
   "execution_count": 2,
   "metadata": {},
   "outputs": [],
   "source": [
    "df = pd.read_csv(\"all_coins_data.csv\")\n",
    "df.sort_values([\"coin\", \"time\"], inplace = True)\n",
    "df = df[[\"time\",\"daily_log_return\", \"coin\"]]"
   ]
  },
  {
   "cell_type": "code",
   "execution_count": 3,
   "metadata": {},
   "outputs": [
    {
     "data": {
      "text/html": [
       "<div>\n",
       "<style scoped>\n",
       "    .dataframe tbody tr th:only-of-type {\n",
       "        vertical-align: middle;\n",
       "    }\n",
       "\n",
       "    .dataframe tbody tr th {\n",
       "        vertical-align: top;\n",
       "    }\n",
       "\n",
       "    .dataframe thead th {\n",
       "        text-align: right;\n",
       "    }\n",
       "</style>\n",
       "<table border=\"1\" class=\"dataframe\">\n",
       "  <thead>\n",
       "    <tr style=\"text-align: right;\">\n",
       "      <th></th>\n",
       "      <th>time</th>\n",
       "      <th>daily_log_return</th>\n",
       "      <th>coin</th>\n",
       "    </tr>\n",
       "  </thead>\n",
       "  <tbody>\n",
       "    <tr>\n",
       "      <th>0</th>\n",
       "      <td>2020-08-22</td>\n",
       "      <td>0.019340</td>\n",
       "      <td>ADA</td>\n",
       "    </tr>\n",
       "    <tr>\n",
       "      <th>1</th>\n",
       "      <td>2020-08-23</td>\n",
       "      <td>-0.030797</td>\n",
       "      <td>ADA</td>\n",
       "    </tr>\n",
       "    <tr>\n",
       "      <th>2</th>\n",
       "      <td>2020-08-24</td>\n",
       "      <td>0.017945</td>\n",
       "      <td>ADA</td>\n",
       "    </tr>\n",
       "    <tr>\n",
       "      <th>3</th>\n",
       "      <td>2020-08-25</td>\n",
       "      <td>-0.094018</td>\n",
       "      <td>ADA</td>\n",
       "    </tr>\n",
       "    <tr>\n",
       "      <th>4</th>\n",
       "      <td>2020-08-26</td>\n",
       "      <td>0.015859</td>\n",
       "      <td>ADA</td>\n",
       "    </tr>\n",
       "  </tbody>\n",
       "</table>\n",
       "</div>"
      ],
      "text/plain": [
       "         time  daily_log_return coin\n",
       "0  2020-08-22          0.019340  ADA\n",
       "1  2020-08-23         -0.030797  ADA\n",
       "2  2020-08-24          0.017945  ADA\n",
       "3  2020-08-25         -0.094018  ADA\n",
       "4  2020-08-26          0.015859  ADA"
      ]
     },
     "execution_count": 3,
     "metadata": {},
     "output_type": "execute_result"
    }
   ],
   "source": [
    "df.head()"
   ]
  },
  {
   "cell_type": "markdown",
   "metadata": {},
   "source": [
    "### Extract features from Time series"
   ]
  },
  {
   "cell_type": "code",
   "execution_count": 4,
   "metadata": {},
   "outputs": [
    {
     "name": "stderr",
     "output_type": "stream",
     "text": [
      "Feature Extraction: 100%|██████████| 9/9 [00:09<00:00,  1.08s/it]\n"
     ]
    },
    {
     "data": {
      "text/html": [
       "<div>\n",
       "<style scoped>\n",
       "    .dataframe tbody tr th:only-of-type {\n",
       "        vertical-align: middle;\n",
       "    }\n",
       "\n",
       "    .dataframe tbody tr th {\n",
       "        vertical-align: top;\n",
       "    }\n",
       "\n",
       "    .dataframe thead th {\n",
       "        text-align: right;\n",
       "    }\n",
       "</style>\n",
       "<table border=\"1\" class=\"dataframe\">\n",
       "  <thead>\n",
       "    <tr style=\"text-align: right;\">\n",
       "      <th></th>\n",
       "      <th>daily_log_return__variance_larger_than_standard_deviation</th>\n",
       "      <th>daily_log_return__has_duplicate_max</th>\n",
       "      <th>daily_log_return__has_duplicate_min</th>\n",
       "      <th>daily_log_return__has_duplicate</th>\n",
       "      <th>daily_log_return__sum_values</th>\n",
       "      <th>daily_log_return__abs_energy</th>\n",
       "      <th>daily_log_return__mean_abs_change</th>\n",
       "      <th>daily_log_return__mean_change</th>\n",
       "      <th>daily_log_return__mean_second_derivative_central</th>\n",
       "      <th>daily_log_return__median</th>\n",
       "      <th>...</th>\n",
       "      <th>daily_log_return__fourier_entropy__bins_5</th>\n",
       "      <th>daily_log_return__fourier_entropy__bins_10</th>\n",
       "      <th>daily_log_return__fourier_entropy__bins_100</th>\n",
       "      <th>daily_log_return__permutation_entropy__dimension_3__tau_1</th>\n",
       "      <th>daily_log_return__permutation_entropy__dimension_4__tau_1</th>\n",
       "      <th>daily_log_return__permutation_entropy__dimension_5__tau_1</th>\n",
       "      <th>daily_log_return__permutation_entropy__dimension_6__tau_1</th>\n",
       "      <th>daily_log_return__permutation_entropy__dimension_7__tau_1</th>\n",
       "      <th>daily_log_return__query_similarity_count__query_None__threshold_0.0</th>\n",
       "      <th>daily_log_return__mean_n_absolute_max__number_of_maxima_7</th>\n",
       "    </tr>\n",
       "  </thead>\n",
       "  <tbody>\n",
       "    <tr>\n",
       "      <th>ADA</th>\n",
       "      <td>0.0</td>\n",
       "      <td>0.0</td>\n",
       "      <td>0.0</td>\n",
       "      <td>0.0</td>\n",
       "      <td>2.216830</td>\n",
       "      <td>1.131009</td>\n",
       "      <td>0.070909</td>\n",
       "      <td>-0.000190</td>\n",
       "      <td>0.000022</td>\n",
       "      <td>0.007526</td>\n",
       "      <td>...</td>\n",
       "      <td>0.955957</td>\n",
       "      <td>1.633388</td>\n",
       "      <td>3.574407</td>\n",
       "      <td>1.790985</td>\n",
       "      <td>3.151103</td>\n",
       "      <td>4.535252</td>\n",
       "      <td>5.259698</td>\n",
       "      <td>5.457534</td>\n",
       "      <td>NaN</td>\n",
       "      <td>0.216455</td>\n",
       "    </tr>\n",
       "    <tr>\n",
       "      <th>ALGO</th>\n",
       "      <td>0.0</td>\n",
       "      <td>0.0</td>\n",
       "      <td>0.0</td>\n",
       "      <td>0.0</td>\n",
       "      <td>0.752552</td>\n",
       "      <td>1.224920</td>\n",
       "      <td>0.079294</td>\n",
       "      <td>-0.000398</td>\n",
       "      <td>-0.000120</td>\n",
       "      <td>-0.001203</td>\n",
       "      <td>...</td>\n",
       "      <td>0.952899</td>\n",
       "      <td>1.548577</td>\n",
       "      <td>3.587066</td>\n",
       "      <td>1.786798</td>\n",
       "      <td>3.128912</td>\n",
       "      <td>4.471307</td>\n",
       "      <td>5.238099</td>\n",
       "      <td>5.440205</td>\n",
       "      <td>NaN</td>\n",
       "      <td>0.211191</td>\n",
       "    </tr>\n",
       "    <tr>\n",
       "      <th>ATOM</th>\n",
       "      <td>0.0</td>\n",
       "      <td>0.0</td>\n",
       "      <td>0.0</td>\n",
       "      <td>1.0</td>\n",
       "      <td>1.253400</td>\n",
       "      <td>1.302531</td>\n",
       "      <td>0.081813</td>\n",
       "      <td>-0.000741</td>\n",
       "      <td>-0.000580</td>\n",
       "      <td>-0.000721</td>\n",
       "      <td>...</td>\n",
       "      <td>0.936648</td>\n",
       "      <td>1.578415</td>\n",
       "      <td>3.627268</td>\n",
       "      <td>1.786217</td>\n",
       "      <td>3.140701</td>\n",
       "      <td>4.483688</td>\n",
       "      <td>5.272612</td>\n",
       "      <td>5.443801</td>\n",
       "      <td>NaN</td>\n",
       "      <td>0.233921</td>\n",
       "    </tr>\n",
       "    <tr>\n",
       "      <th>BCH</th>\n",
       "      <td>0.0</td>\n",
       "      <td>0.0</td>\n",
       "      <td>0.0</td>\n",
       "      <td>0.0</td>\n",
       "      <td>1.062136</td>\n",
       "      <td>0.911587</td>\n",
       "      <td>0.062480</td>\n",
       "      <td>-0.000168</td>\n",
       "      <td>0.000021</td>\n",
       "      <td>0.004208</td>\n",
       "      <td>...</td>\n",
       "      <td>1.163243</td>\n",
       "      <td>1.742283</td>\n",
       "      <td>3.610647</td>\n",
       "      <td>1.779674</td>\n",
       "      <td>3.141727</td>\n",
       "      <td>4.571905</td>\n",
       "      <td>5.303545</td>\n",
       "      <td>5.440205</td>\n",
       "      <td>NaN</td>\n",
       "      <td>0.215149</td>\n",
       "    </tr>\n",
       "    <tr>\n",
       "      <th>BNB</th>\n",
       "      <td>0.0</td>\n",
       "      <td>0.0</td>\n",
       "      <td>0.0</td>\n",
       "      <td>1.0</td>\n",
       "      <td>3.146841</td>\n",
       "      <td>1.375397</td>\n",
       "      <td>0.071949</td>\n",
       "      <td>-0.000139</td>\n",
       "      <td>-0.000093</td>\n",
       "      <td>0.004555</td>\n",
       "      <td>...</td>\n",
       "      <td>1.136852</td>\n",
       "      <td>1.793575</td>\n",
       "      <td>3.788603</td>\n",
       "      <td>1.787480</td>\n",
       "      <td>3.137270</td>\n",
       "      <td>4.529736</td>\n",
       "      <td>5.296382</td>\n",
       "      <td>5.451758</td>\n",
       "      <td>NaN</td>\n",
       "      <td>0.275121</td>\n",
       "    </tr>\n",
       "  </tbody>\n",
       "</table>\n",
       "<p>5 rows × 783 columns</p>\n",
       "</div>"
      ],
      "text/plain": [
       "      daily_log_return__variance_larger_than_standard_deviation  \\\n",
       "ADA                                                 0.0           \n",
       "ALGO                                                0.0           \n",
       "ATOM                                                0.0           \n",
       "BCH                                                 0.0           \n",
       "BNB                                                 0.0           \n",
       "\n",
       "      daily_log_return__has_duplicate_max  \\\n",
       "ADA                                   0.0   \n",
       "ALGO                                  0.0   \n",
       "ATOM                                  0.0   \n",
       "BCH                                   0.0   \n",
       "BNB                                   0.0   \n",
       "\n",
       "      daily_log_return__has_duplicate_min  daily_log_return__has_duplicate  \\\n",
       "ADA                                   0.0                              0.0   \n",
       "ALGO                                  0.0                              0.0   \n",
       "ATOM                                  0.0                              1.0   \n",
       "BCH                                   0.0                              0.0   \n",
       "BNB                                   0.0                              1.0   \n",
       "\n",
       "      daily_log_return__sum_values  daily_log_return__abs_energy  \\\n",
       "ADA                       2.216830                      1.131009   \n",
       "ALGO                      0.752552                      1.224920   \n",
       "ATOM                      1.253400                      1.302531   \n",
       "BCH                       1.062136                      0.911587   \n",
       "BNB                       3.146841                      1.375397   \n",
       "\n",
       "      daily_log_return__mean_abs_change  daily_log_return__mean_change  \\\n",
       "ADA                            0.070909                      -0.000190   \n",
       "ALGO                           0.079294                      -0.000398   \n",
       "ATOM                           0.081813                      -0.000741   \n",
       "BCH                            0.062480                      -0.000168   \n",
       "BNB                            0.071949                      -0.000139   \n",
       "\n",
       "      daily_log_return__mean_second_derivative_central  \\\n",
       "ADA                                           0.000022   \n",
       "ALGO                                         -0.000120   \n",
       "ATOM                                         -0.000580   \n",
       "BCH                                           0.000021   \n",
       "BNB                                          -0.000093   \n",
       "\n",
       "      daily_log_return__median  ...  \\\n",
       "ADA                   0.007526  ...   \n",
       "ALGO                 -0.001203  ...   \n",
       "ATOM                 -0.000721  ...   \n",
       "BCH                   0.004208  ...   \n",
       "BNB                   0.004555  ...   \n",
       "\n",
       "      daily_log_return__fourier_entropy__bins_5  \\\n",
       "ADA                                    0.955957   \n",
       "ALGO                                   0.952899   \n",
       "ATOM                                   0.936648   \n",
       "BCH                                    1.163243   \n",
       "BNB                                    1.136852   \n",
       "\n",
       "      daily_log_return__fourier_entropy__bins_10  \\\n",
       "ADA                                     1.633388   \n",
       "ALGO                                    1.548577   \n",
       "ATOM                                    1.578415   \n",
       "BCH                                     1.742283   \n",
       "BNB                                     1.793575   \n",
       "\n",
       "      daily_log_return__fourier_entropy__bins_100  \\\n",
       "ADA                                      3.574407   \n",
       "ALGO                                     3.587066   \n",
       "ATOM                                     3.627268   \n",
       "BCH                                      3.610647   \n",
       "BNB                                      3.788603   \n",
       "\n",
       "      daily_log_return__permutation_entropy__dimension_3__tau_1  \\\n",
       "ADA                                            1.790985           \n",
       "ALGO                                           1.786798           \n",
       "ATOM                                           1.786217           \n",
       "BCH                                            1.779674           \n",
       "BNB                                            1.787480           \n",
       "\n",
       "      daily_log_return__permutation_entropy__dimension_4__tau_1  \\\n",
       "ADA                                            3.151103           \n",
       "ALGO                                           3.128912           \n",
       "ATOM                                           3.140701           \n",
       "BCH                                            3.141727           \n",
       "BNB                                            3.137270           \n",
       "\n",
       "      daily_log_return__permutation_entropy__dimension_5__tau_1  \\\n",
       "ADA                                            4.535252           \n",
       "ALGO                                           4.471307           \n",
       "ATOM                                           4.483688           \n",
       "BCH                                            4.571905           \n",
       "BNB                                            4.529736           \n",
       "\n",
       "      daily_log_return__permutation_entropy__dimension_6__tau_1  \\\n",
       "ADA                                            5.259698           \n",
       "ALGO                                           5.238099           \n",
       "ATOM                                           5.272612           \n",
       "BCH                                            5.303545           \n",
       "BNB                                            5.296382           \n",
       "\n",
       "      daily_log_return__permutation_entropy__dimension_7__tau_1  \\\n",
       "ADA                                            5.457534           \n",
       "ALGO                                           5.440205           \n",
       "ATOM                                           5.443801           \n",
       "BCH                                            5.440205           \n",
       "BNB                                            5.451758           \n",
       "\n",
       "      daily_log_return__query_similarity_count__query_None__threshold_0.0  \\\n",
       "ADA                                                 NaN                     \n",
       "ALGO                                                NaN                     \n",
       "ATOM                                                NaN                     \n",
       "BCH                                                 NaN                     \n",
       "BNB                                                 NaN                     \n",
       "\n",
       "      daily_log_return__mean_n_absolute_max__number_of_maxima_7  \n",
       "ADA                                            0.216455          \n",
       "ALGO                                           0.211191          \n",
       "ATOM                                           0.233921          \n",
       "BCH                                            0.215149          \n",
       "BNB                                            0.275121          \n",
       "\n",
       "[5 rows x 783 columns]"
      ]
     },
     "execution_count": 4,
     "metadata": {},
     "output_type": "execute_result"
    }
   ],
   "source": [
    "extracted_features = extract_features(df, \n",
    "column_id=\"coin\", column_sort=\"time\")\n",
    "extracted_features.head()"
   ]
  },
  {
   "cell_type": "markdown",
   "metadata": {},
   "source": [
    "### Standard Scaling"
   ]
  },
  {
   "cell_type": "code",
   "execution_count": 5,
   "metadata": {},
   "outputs": [],
   "source": [
    "extracted_features_cleaned=extracted_features\n",
    "extracted_features_cleaned=extracted_features_cleaned.dropna(axis=1)\n",
    "scaler = StandardScaler()\n",
    "extracted_features_cleaned_std = scaler.fit_transform(extracted_features_cleaned)"
   ]
  },
  {
   "cell_type": "markdown",
   "metadata": {},
   "source": [
    "### PCA"
   ]
  },
  {
   "cell_type": "code",
   "execution_count": 6,
   "metadata": {},
   "outputs": [
    {
     "name": "stdout",
     "output_type": "stream",
     "text": [
      "12\n"
     ]
    },
    {
     "data": {
      "text/plain": [
       "<matplotlib.lines.Line2D at 0x7fdb55a26310>"
      ]
     },
     "execution_count": 6,
     "metadata": {},
     "output_type": "execute_result"
    },
    {
     "data": {
      "image/png": "[encoded data removed]",
      "text/plain": [
       "<Figure size 2000x1000 with 1 Axes>"
      ]
     },
     "metadata": {},
     "output_type": "display_data"
    }
   ],
   "source": [
    "from kneed import KneeLocator\n",
    "\n",
    "pca = PCA()\n",
    "pca.fit(extracted_features_cleaned_std)\n",
    "kneedle = KneeLocator(x = range(1, 46), y = np.cumsum(pca.explained_variance_ratio_), curve=\"concave\", direction = \"increasing\", online = True)\n",
    "print(kneedle.knee)\n",
    "\n",
    "plt.figure(figsize=(20,10))\n",
    "plt.grid()\n",
    "plt.plot(np.cumsum(pca.explained_variance_ratio_))\n",
    "plt.xlabel('number of components')\n",
    "plt.ylabel('cumulative explained variance')\n",
    "plt.axvline(x=kneedle.knee, color = \"red\")\n"
   ]
  },
  {
   "cell_type": "code",
   "execution_count": 50,
   "metadata": {},
   "outputs": [
    {
     "data": {
      "text/plain": [
       "array([0.23302005, 0.36479303, 0.46680223, 0.54773141, 0.59453815,\n",
       "       0.63581638, 0.66682908, 0.69031984, 0.71109172, 0.73085507,\n",
       "       0.75027495, 0.76813514, 0.78412056, 0.79914677, 0.81240282,\n",
       "       0.82547984, 0.83803118, 0.84922871, 0.86017027, 0.87030442,\n",
       "       0.8800752 , 0.88923269, 0.89793056, 0.90618708, 0.91398303,\n",
       "       0.92162683, 0.92877868, 0.93539269, 0.94151683, 0.94745597,\n",
       "       0.95320901, 0.95882934, 0.96391935, 0.9687387 , 0.97323004,\n",
       "       0.97748344, 0.98122376, 0.98470338, 0.98799949, 0.99104939,\n",
       "       0.99372666, 0.99630974, 0.99849599, 1.        , 1.        ])"
      ]
     },
     "execution_count": 50,
     "metadata": {},
     "output_type": "execute_result"
    }
   ],
   "source": [
    "np.cumsum(pca.explained_variance_ratio_)"
   ]
  },
  {
   "cell_type": "code",
   "execution_count": 52,
   "metadata": {},
   "outputs": [],
   "source": [
    "pca = PCA(n_components=12)\n",
    "scores_pca  = pca.fit_transform(extracted_features_cleaned_std)"
   ]
  },
  {
   "cell_type": "markdown",
   "metadata": {},
   "source": [
    "### K-Means Clustering"
   ]
  },
  {
   "cell_type": "code",
   "execution_count": 64,
   "metadata": {},
   "outputs": [
    {
     "name": "stderr",
     "output_type": "stream",
     "text": [
      "/home/fede/anaconda3/envs/ts/lib/python3.11/site-packages/sklearn/cluster/_kmeans.py:1416: FutureWarning: The default value of `n_init` will change from 10 to 'auto' in 1.4. Set the value of `n_init` explicitly to suppress the warning\n",
      "  super()._check_params_vs_input(X, default_n_init=10)\n",
      "/home/fede/anaconda3/envs/ts/lib/python3.11/site-packages/sklearn/cluster/_kmeans.py:1416: FutureWarning: The default value of `n_init` will change from 10 to 'auto' in 1.4. Set the value of `n_init` explicitly to suppress the warning\n",
      "  super()._check_params_vs_input(X, default_n_init=10)\n"
     ]
    },
    {
     "name": "stderr",
     "output_type": "stream",
     "text": [
      "/home/fede/anaconda3/envs/ts/lib/python3.11/site-packages/sklearn/cluster/_kmeans.py:1416: FutureWarning: The default value of `n_init` will change from 10 to 'auto' in 1.4. Set the value of `n_init` explicitly to suppress the warning\n",
      "  super()._check_params_vs_input(X, default_n_init=10)\n",
      "/home/fede/anaconda3/envs/ts/lib/python3.11/site-packages/sklearn/cluster/_kmeans.py:1416: FutureWarning: The default value of `n_init` will change from 10 to 'auto' in 1.4. Set the value of `n_init` explicitly to suppress the warning\n",
      "  super()._check_params_vs_input(X, default_n_init=10)\n",
      "/home/fede/anaconda3/envs/ts/lib/python3.11/site-packages/sklearn/cluster/_kmeans.py:1416: FutureWarning: The default value of `n_init` will change from 10 to 'auto' in 1.4. Set the value of `n_init` explicitly to suppress the warning\n",
      "  super()._check_params_vs_input(X, default_n_init=10)\n",
      "/home/fede/anaconda3/envs/ts/lib/python3.11/site-packages/sklearn/cluster/_kmeans.py:1416: FutureWarning: The default value of `n_init` will change from 10 to 'auto' in 1.4. Set the value of `n_init` explicitly to suppress the warning\n",
      "  super()._check_params_vs_input(X, default_n_init=10)\n",
      "/home/fede/anaconda3/envs/ts/lib/python3.11/site-packages/sklearn/cluster/_kmeans.py:1416: FutureWarning: The default value of `n_init` will change from 10 to 'auto' in 1.4. Set the value of `n_init` explicitly to suppress the warning\n",
      "  super()._check_params_vs_input(X, default_n_init=10)\n",
      "/home/fede/anaconda3/envs/ts/lib/python3.11/site-packages/sklearn/cluster/_kmeans.py:1416: FutureWarning: The default value of `n_init` will change from 10 to 'auto' in 1.4. Set the value of `n_init` explicitly to suppress the warning\n",
      "  super()._check_params_vs_input(X, default_n_init=10)\n",
      "/home/fede/anaconda3/envs/ts/lib/python3.11/site-packages/sklearn/cluster/_kmeans.py:1416: FutureWarning: The default value of `n_init` will change from 10 to 'auto' in 1.4. Set the value of `n_init` explicitly to suppress the warning\n",
      "  super()._check_params_vs_input(X, default_n_init=10)\n"
     ]
    },
    {
     "name": "stdout",
     "output_type": "stream",
     "text": [
      "4\n"
     ]
    },
    {
     "data": {
      "text/plain": [
       "[]"
      ]
     },
     "execution_count": 64,
     "metadata": {},
     "output_type": "execute_result"
    },
    {
     "data": {
      "image/png": "[encoded data removed]",
      "text/plain": [
       "<Figure size 2000x1000 with 1 Axes>"
      ]
     },
     "metadata": {},
     "output_type": "display_data"
    }
   ],
   "source": [
    "wcss = []\n",
    "for i in range(1,10):\n",
    "    km = KMeans(n_clusters=i) \n",
    "    km.fit(scores_pca)\n",
    "    wcss.append(km.inertia_)\n",
    "\n",
    "kneedle = KneeLocator(x = range(1, 10), y = wcss, curve=\"convex\", direction = \"decreasing\", online = True)\n",
    "print(kneedle.knee)\n",
    "\n",
    "plt.figure(figsize=(20,10))\n",
    "plt.grid()\n",
    "plt.plot(range(1,10),wcss,marker='o',linestyle='--')\n",
    "plt.xlabel('number of clusters')\n",
    "plt.ylabel('WCSSS')\n",
    "plt.axvline(x=kneedle.knee, color = \"red\")\n",
    "plt.plot()"
   ]
  },
  {
   "cell_type": "markdown",
   "metadata": {},
   "source": [
    "### K-means cluster selection"
   ]
  },
  {
   "cell_type": "code",
   "execution_count": 55,
   "metadata": {},
   "outputs": [
    {
     "name": "stderr",
     "output_type": "stream",
     "text": [
      "/home/fede/anaconda3/envs/ts/lib/python3.11/site-packages/sklearn/cluster/_kmeans.py:1416: FutureWarning: The default value of `n_init` will change from 10 to 'auto' in 1.4. Set the value of `n_init` explicitly to suppress the warning\n",
      "  super()._check_params_vs_input(X, default_n_init=10)\n"
     ]
    },
    {
     "data": {
      "text/plain": [
       "(array([0, 1, 2, 3], dtype=int32), array([37,  1,  6,  1]))"
      ]
     },
     "execution_count": 55,
     "metadata": {},
     "output_type": "execute_result"
    }
   ],
   "source": [
    "N_CLUSTERS = kneedle.knee\n",
    "\n",
    "km = KMeans(\n",
    "    n_clusters=N_CLUSTERS\n",
    ")\n",
    "pca_km = km.fit_predict(scores_pca)\n",
    "np.unique(pca_km,return_counts=True)"
   ]
  },
  {
   "cell_type": "markdown",
   "metadata": {},
   "source": [
    "### Silhouette Score"
   ]
  },
  {
   "cell_type": "code",
   "execution_count": 56,
   "metadata": {},
   "outputs": [
    {
     "data": {
      "text/plain": [
       "0.36001131824970406"
      ]
     },
     "execution_count": 56,
     "metadata": {},
     "output_type": "execute_result"
    }
   ],
   "source": [
    "silhouette_score(scores_pca, pca_km, metric=\"euclidean\")"
   ]
  }
 ],
 "metadata": {
  "kernelspec": {
   "display_name": "base",
   "language": "python",
   "name": "python3"
  },
  "language_info": {
   "codemirror_mode": {
    "name": "ipython",
    "version": 3
   },
   "file_extension": ".py",
   "mimetype": "text/x-python",
   "name": "python",
   "nbconvert_exporter": "python",
   "pygments_lexer": "ipython3",
   "version": "3.11.6"
  },
  "orig_nbformat": 4
 },
 "nbformat": 4,
 "nbformat_minor": 2
}
