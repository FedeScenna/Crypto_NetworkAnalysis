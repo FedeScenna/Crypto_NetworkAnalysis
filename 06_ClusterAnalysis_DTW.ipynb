{
 "cells": [
  {
   "cell_type": "code",
   "execution_count": 35,
   "metadata": {},
   "outputs": [],
   "source": [
    "import numpy as np\n",
    "import pandas as pd\n",
    "import matplotlib.pyplot as plt\n",
    "from tslearn.utils import to_time_series_dataset\n",
    "from tslearn.preprocessing import TimeSeriesScalerMeanVariance\n",
    "from tslearn.clustering import TimeSeriesKMeans, silhouette_score"
   ]
  },
  {
   "cell_type": "markdown",
   "metadata": {},
   "source": [
    "## Data processing"
   ]
  },
  {
   "attachments": {},
   "cell_type": "markdown",
   "metadata": {},
   "source": [
    "### Read data"
   ]
  },
  {
   "cell_type": "code",
   "execution_count": 36,
   "metadata": {},
   "outputs": [
    {
     "data": {
      "text/html": [
       "<div>\n",
       "<style scoped>\n",
       "    .dataframe tbody tr th:only-of-type {\n",
       "        vertical-align: middle;\n",
       "    }\n",
       "\n",
       "    .dataframe tbody tr th {\n",
       "        vertical-align: top;\n",
       "    }\n",
       "\n",
       "    .dataframe thead th {\n",
       "        text-align: right;\n",
       "    }\n",
       "</style>\n",
       "<table border=\"1\" class=\"dataframe\">\n",
       "  <thead>\n",
       "    <tr style=\"text-align: right;\">\n",
       "      <th></th>\n",
       "      <th>time</th>\n",
       "      <th>daily_log_return</th>\n",
       "      <th>coin</th>\n",
       "    </tr>\n",
       "  </thead>\n",
       "  <tbody>\n",
       "    <tr>\n",
       "      <th>0</th>\n",
       "      <td>2020-08-22</td>\n",
       "      <td>0.019340</td>\n",
       "      <td>ADA</td>\n",
       "    </tr>\n",
       "    <tr>\n",
       "      <th>1</th>\n",
       "      <td>2020-08-23</td>\n",
       "      <td>-0.030797</td>\n",
       "      <td>ADA</td>\n",
       "    </tr>\n",
       "    <tr>\n",
       "      <th>2</th>\n",
       "      <td>2020-08-24</td>\n",
       "      <td>0.017945</td>\n",
       "      <td>ADA</td>\n",
       "    </tr>\n",
       "    <tr>\n",
       "      <th>3</th>\n",
       "      <td>2020-08-25</td>\n",
       "      <td>-0.094018</td>\n",
       "      <td>ADA</td>\n",
       "    </tr>\n",
       "    <tr>\n",
       "      <th>4</th>\n",
       "      <td>2020-08-26</td>\n",
       "      <td>0.015859</td>\n",
       "      <td>ADA</td>\n",
       "    </tr>\n",
       "  </tbody>\n",
       "</table>\n",
       "</div>"
      ],
      "text/plain": [
       "         time  daily_log_return coin\n",
       "0  2020-08-22          0.019340  ADA\n",
       "1  2020-08-23         -0.030797  ADA\n",
       "2  2020-08-24          0.017945  ADA\n",
       "3  2020-08-25         -0.094018  ADA\n",
       "4  2020-08-26          0.015859  ADA"
      ]
     },
     "execution_count": 36,
     "metadata": {},
     "output_type": "execute_result"
    }
   ],
   "source": [
    "df = pd.read_csv(\"all_coins_data.csv\")\n",
    "df = df[[\"time\",\"daily_log_return\", \"coin\"]]\n",
    "df.head()\n"
   ]
  },
  {
   "cell_type": "code",
   "execution_count": 37,
   "metadata": {},
   "outputs": [
    {
     "data": {
      "text/html": [
       "<div>\n",
       "<style scoped>\n",
       "    .dataframe tbody tr th:only-of-type {\n",
       "        vertical-align: middle;\n",
       "    }\n",
       "\n",
       "    .dataframe tbody tr th {\n",
       "        vertical-align: top;\n",
       "    }\n",
       "\n",
       "    .dataframe thead th {\n",
       "        text-align: right;\n",
       "    }\n",
       "</style>\n",
       "<table border=\"1\" class=\"dataframe\">\n",
       "  <thead>\n",
       "    <tr style=\"text-align: right;\">\n",
       "      <th>time</th>\n",
       "      <th>2020-08-22</th>\n",
       "      <th>2020-08-23</th>\n",
       "      <th>2020-08-24</th>\n",
       "      <th>2020-08-25</th>\n",
       "      <th>2020-08-26</th>\n",
       "      <th>2020-08-27</th>\n",
       "      <th>2020-08-28</th>\n",
       "      <th>2020-08-29</th>\n",
       "      <th>2020-08-30</th>\n",
       "      <th>2020-08-31</th>\n",
       "      <th>...</th>\n",
       "      <th>2021-04-15</th>\n",
       "      <th>2021-04-16</th>\n",
       "      <th>2021-04-17</th>\n",
       "      <th>2021-04-18</th>\n",
       "      <th>2021-04-19</th>\n",
       "      <th>2021-04-20</th>\n",
       "      <th>2021-04-21</th>\n",
       "      <th>2021-04-22</th>\n",
       "      <th>2021-04-23</th>\n",
       "      <th>2021-04-24</th>\n",
       "    </tr>\n",
       "    <tr>\n",
       "      <th>coin</th>\n",
       "      <th></th>\n",
       "      <th></th>\n",
       "      <th></th>\n",
       "      <th></th>\n",
       "      <th></th>\n",
       "      <th></th>\n",
       "      <th></th>\n",
       "      <th></th>\n",
       "      <th></th>\n",
       "      <th></th>\n",
       "      <th></th>\n",
       "      <th></th>\n",
       "      <th></th>\n",
       "      <th></th>\n",
       "      <th></th>\n",
       "      <th></th>\n",
       "      <th></th>\n",
       "      <th></th>\n",
       "      <th></th>\n",
       "      <th></th>\n",
       "      <th></th>\n",
       "    </tr>\n",
       "  </thead>\n",
       "  <tbody>\n",
       "    <tr>\n",
       "      <th>ADA</th>\n",
       "      <td>0.019340</td>\n",
       "      <td>-0.030797</td>\n",
       "      <td>0.017945</td>\n",
       "      <td>-0.094018</td>\n",
       "      <td>0.015859</td>\n",
       "      <td>-0.064072</td>\n",
       "      <td>0.021209</td>\n",
       "      <td>0.061912</td>\n",
       "      <td>0.008540</td>\n",
       "      <td>0.041638</td>\n",
       "      <td>...</td>\n",
       "      <td>0.018412</td>\n",
       "      <td>-0.047035</td>\n",
       "      <td>-0.028009</td>\n",
       "      <td>-0.070920</td>\n",
       "      <td>-0.067096</td>\n",
       "      <td>0.059247</td>\n",
       "      <td>-0.052580</td>\n",
       "      <td>-0.050245</td>\n",
       "      <td>0.012153</td>\n",
       "      <td>-0.027111</td>\n",
       "    </tr>\n",
       "    <tr>\n",
       "      <th>ALGO</th>\n",
       "      <td>0.061710</td>\n",
       "      <td>0.083686</td>\n",
       "      <td>0.025879</td>\n",
       "      <td>-0.114357</td>\n",
       "      <td>-0.021398</td>\n",
       "      <td>-0.053381</td>\n",
       "      <td>0.023308</td>\n",
       "      <td>0.000562</td>\n",
       "      <td>-0.030216</td>\n",
       "      <td>-0.031357</td>\n",
       "      <td>...</td>\n",
       "      <td>0.071176</td>\n",
       "      <td>-0.041564</td>\n",
       "      <td>0.118078</td>\n",
       "      <td>-0.149741</td>\n",
       "      <td>-0.120610</td>\n",
       "      <td>0.000000</td>\n",
       "      <td>-0.065414</td>\n",
       "      <td>-0.038660</td>\n",
       "      <td>0.000857</td>\n",
       "      <td>-0.035734</td>\n",
       "    </tr>\n",
       "    <tr>\n",
       "      <th>ATOM</th>\n",
       "      <td>0.136226</td>\n",
       "      <td>0.283939</td>\n",
       "      <td>-0.039202</td>\n",
       "      <td>0.022299</td>\n",
       "      <td>-0.083755</td>\n",
       "      <td>-0.056663</td>\n",
       "      <td>0.037690</td>\n",
       "      <td>-0.039612</td>\n",
       "      <td>0.048555</td>\n",
       "      <td>-0.058083</td>\n",
       "      <td>...</td>\n",
       "      <td>0.027688</td>\n",
       "      <td>-0.086652</td>\n",
       "      <td>-0.044879</td>\n",
       "      <td>-0.128392</td>\n",
       "      <td>-0.107122</td>\n",
       "      <td>0.099639</td>\n",
       "      <td>-0.082158</td>\n",
       "      <td>-0.044290</td>\n",
       "      <td>0.090114</td>\n",
       "      <td>-0.045315</td>\n",
       "    </tr>\n",
       "    <tr>\n",
       "      <th>BCH</th>\n",
       "      <td>0.013840</td>\n",
       "      <td>-0.007142</td>\n",
       "      <td>0.021790</td>\n",
       "      <td>-0.052907</td>\n",
       "      <td>-0.003777</td>\n",
       "      <td>-0.037703</td>\n",
       "      <td>0.015743</td>\n",
       "      <td>-0.002197</td>\n",
       "      <td>0.040682</td>\n",
       "      <td>-0.020645</td>\n",
       "      <td>...</td>\n",
       "      <td>0.061542</td>\n",
       "      <td>0.243818</td>\n",
       "      <td>-0.109446</td>\n",
       "      <td>-0.016340</td>\n",
       "      <td>-0.089443</td>\n",
       "      <td>0.054295</td>\n",
       "      <td>-0.033778</td>\n",
       "      <td>-0.063267</td>\n",
       "      <td>-0.016707</td>\n",
       "      <td>-0.027415</td>\n",
       "    </tr>\n",
       "    <tr>\n",
       "      <th>BNB</th>\n",
       "      <td>0.007227</td>\n",
       "      <td>-0.016792</td>\n",
       "      <td>0.034191</td>\n",
       "      <td>-0.054534</td>\n",
       "      <td>0.037135</td>\n",
       "      <td>0.040138</td>\n",
       "      <td>-0.001731</td>\n",
       "      <td>-0.005211</td>\n",
       "      <td>0.028751</td>\n",
       "      <td>-0.020945</td>\n",
       "      <td>...</td>\n",
       "      <td>-0.012386</td>\n",
       "      <td>-0.063653</td>\n",
       "      <td>0.012574</td>\n",
       "      <td>-0.067041</td>\n",
       "      <td>0.045586</td>\n",
       "      <td>0.154173</td>\n",
       "      <td>-0.079246</td>\n",
       "      <td>-0.073323</td>\n",
       "      <td>0.042354</td>\n",
       "      <td>-0.026840</td>\n",
       "    </tr>\n",
       "  </tbody>\n",
       "</table>\n",
       "<p>5 rows × 246 columns</p>\n",
       "</div>"
      ],
      "text/plain": [
       "time  2020-08-22  2020-08-23  2020-08-24  2020-08-25  2020-08-26  2020-08-27  \\\n",
       "coin                                                                           \n",
       "ADA     0.019340   -0.030797    0.017945   -0.094018    0.015859   -0.064072   \n",
       "ALGO    0.061710    0.083686    0.025879   -0.114357   -0.021398   -0.053381   \n",
       "ATOM    0.136226    0.283939   -0.039202    0.022299   -0.083755   -0.056663   \n",
       "BCH     0.013840   -0.007142    0.021790   -0.052907   -0.003777   -0.037703   \n",
       "BNB     0.007227   -0.016792    0.034191   -0.054534    0.037135    0.040138   \n",
       "\n",
       "time  2020-08-28  2020-08-29  2020-08-30  2020-08-31  ...  2021-04-15  \\\n",
       "coin                                                  ...               \n",
       "ADA     0.021209    0.061912    0.008540    0.041638  ...    0.018412   \n",
       "ALGO    0.023308    0.000562   -0.030216   -0.031357  ...    0.071176   \n",
       "ATOM    0.037690   -0.039612    0.048555   -0.058083  ...    0.027688   \n",
       "BCH     0.015743   -0.002197    0.040682   -0.020645  ...    0.061542   \n",
       "BNB    -0.001731   -0.005211    0.028751   -0.020945  ...   -0.012386   \n",
       "\n",
       "time  2021-04-16  2021-04-17  2021-04-18  2021-04-19  2021-04-20  2021-04-21  \\\n",
       "coin                                                                           \n",
       "ADA    -0.047035   -0.028009   -0.070920   -0.067096    0.059247   -0.052580   \n",
       "ALGO   -0.041564    0.118078   -0.149741   -0.120610    0.000000   -0.065414   \n",
       "ATOM   -0.086652   -0.044879   -0.128392   -0.107122    0.099639   -0.082158   \n",
       "BCH     0.243818   -0.109446   -0.016340   -0.089443    0.054295   -0.033778   \n",
       "BNB    -0.063653    0.012574   -0.067041    0.045586    0.154173   -0.079246   \n",
       "\n",
       "time  2021-04-22  2021-04-23  2021-04-24  \n",
       "coin                                      \n",
       "ADA    -0.050245    0.012153   -0.027111  \n",
       "ALGO   -0.038660    0.000857   -0.035734  \n",
       "ATOM   -0.044290    0.090114   -0.045315  \n",
       "BCH    -0.063267   -0.016707   -0.027415  \n",
       "BNB    -0.073323    0.042354   -0.026840  \n",
       "\n",
       "[5 rows x 246 columns]"
      ]
     },
     "execution_count": 37,
     "metadata": {},
     "output_type": "execute_result"
    }
   ],
   "source": [
    "df_pivoted = df.pivot(index=\"coin\", columns=\"time\", values=\"daily_log_return\")\n",
    "df_pivoted.head()"
   ]
  },
  {
   "cell_type": "markdown",
   "metadata": {},
   "source": [
    "### Normalize Series"
   ]
  },
  {
   "cell_type": "code",
   "execution_count": 38,
   "metadata": {},
   "outputs": [],
   "source": [
    "# convert dataframe to time_series_dataset\n",
    "X = to_time_series_dataset(df_pivoted.values)\n",
    "\n",
    "# normalize time series to zero mean and unit variance\n",
    "X_train = TimeSeriesScalerMeanVariance().fit_transform(X)\n"
   ]
  },
  {
   "cell_type": "markdown",
   "metadata": {},
   "source": [
    "### Clustering"
   ]
  },
  {
   "cell_type": "code",
   "execution_count": 39,
   "metadata": {},
   "outputs": [],
   "source": [
    "algo = \"DTW_kmeans\"\n",
    "metric = \"dtw\"\n",
    "\n",
    "wcss = []\n",
    "\n",
    "for i in range(1,10):\n",
    "    model= TimeSeriesKMeans(n_clusters=i,metric=metric,n_jobs=-1,random_state=0)\n",
    "    model.fit_predict(X_train)\n",
    "    wcss.append(model.inertia_)\n",
    "\n",
    "plt.figure(figsize=(20,10))\n",
    "plt.grid()\n",
    "plt.plot(range(1,10),wcss,marker='o',linestyle='--')\n",
    "plt.xlabel('number of clusters')\n",
    "plt.ylabel('WCSSS');"
   ]
  },
  {
   "cell_type": "markdown",
   "metadata": {},
   "source": [
    "### Knee calculation"
   ]
  },
  {
   "cell_type": "code",
   "execution_count": null,
   "metadata": {},
   "outputs": [
    {
     "data": {
      "text/plain": [
       "9"
      ]
     },
     "execution_count": 9,
     "metadata": {},
     "output_type": "execute_result"
    }
   ],
   "source": [
    "len(wcss)"
   ]
  },
  {
   "cell_type": "code",
   "execution_count": null,
   "metadata": {},
   "outputs": [
    {
     "name": "stdout",
     "output_type": "stream",
     "text": [
      "5\n"
     ]
    }
   ],
   "source": [
    "from kneed import KneeLocator\n",
    "kneedle = KneeLocator(x = range(1, 10), y = wcss, curve=\"concave\", direction=\"decreasing\", online = True)\n",
    "print(kneedle.knee)"
   ]
  },
  {
   "cell_type": "markdown",
   "metadata": {},
   "source": [
    "### Clustering selection"
   ]
  },
  {
   "cell_type": "code",
   "execution_count": null,
   "metadata": {},
   "outputs": [],
   "source": [
    "algo = \"DTW_kmeans\"\n",
    "metric = \"dtw\"\n",
    "\n",
    "# cluster configuration\n",
    "N_CLUSTERS = 5\n",
    "\n",
    "model= TimeSeriesKMeans(n_clusters=N_CLUSTERS,\n",
    "                        metric=metric,\n",
    "                        n_jobs=-1,\n",
    "                        random_state=0)\n",
    "\n",
    "y_pred = model.fit_predict(X_train)\n"
   ]
  },
  {
   "cell_type": "code",
   "execution_count": null,
   "metadata": {},
   "outputs": [
    {
     "data": {
      "text/plain": [
       "array([0, 3, 3, 0, 0, 0, 1, 4, 0, 2, 1, 0, 3, 0, 0, 1, 1, 2, 4, 2, 0, 3,\n",
       "       1, 0, 0, 0, 0, 0, 0, 3, 3, 0, 1, 1, 4, 4, 0, 1, 0, 2, 0, 0, 0, 1,\n",
       "       0])"
      ]
     },
     "execution_count": 33,
     "metadata": {},
     "output_type": "execute_result"
    }
   ],
   "source": [
    "y_pred"
   ]
  },
  {
   "cell_type": "code",
   "execution_count": null,
   "metadata": {},
   "outputs": [
    {
     "ename": "FileNotFoundError",
     "evalue": "[Errno 2] No such file or directory: './tsl/plots/DTW_kmeans_cls_lbl_0.png'",
     "output_type": "error",
     "traceback": [
      "\u001b[0;31m---------------------------------------------------------------------------\u001b[0m",
      "\u001b[0;31mFileNotFoundError\u001b[0m                         Traceback (most recent call last)",
      "\u001b[1;32m/home/fede/Documents/Tesis/Crypto_NetworkAnalysis/06_ClusterAnalysis_DTW.ipynb Cell 16\u001b[0m line \u001b[0;36m8\n\u001b[1;32m      <a href='vscode-notebook-cell:/home/fede/Documents/Tesis/Crypto_NetworkAnalysis/06_ClusterAnalysis_DTW.ipynb#X15sZmlsZQ%3D%3D?line=5'>6</a>\u001b[0m \u001b[39mfor\u001b[39;00m xx \u001b[39min\u001b[39;00m X_sub:\n\u001b[1;32m      <a href='vscode-notebook-cell:/home/fede/Documents/Tesis/Crypto_NetworkAnalysis/06_ClusterAnalysis_DTW.ipynb#X15sZmlsZQ%3D%3D?line=6'>7</a>\u001b[0m     plt\u001b[39m.\u001b[39mplot(xx\u001b[39m.\u001b[39mravel(), color\u001b[39m=\u001b[39m\u001b[39m'\u001b[39m\u001b[39mxkcd:sky blue\u001b[39m\u001b[39m'\u001b[39m, alpha\u001b[39m=\u001b[39m\u001b[39m0.025\u001b[39m)\n\u001b[0;32m----> <a href='vscode-notebook-cell:/home/fede/Documents/Tesis/Crypto_NetworkAnalysis/06_ClusterAnalysis_DTW.ipynb#X15sZmlsZQ%3D%3D?line=7'>8</a>\u001b[0m fig\u001b[39m.\u001b[39;49msavefig(\u001b[39mf\u001b[39;49m\u001b[39m\"\u001b[39;49m\u001b[39m./tsl/plots/\u001b[39;49m\u001b[39m{\u001b[39;49;00malgo\u001b[39m}\u001b[39;49;00m\u001b[39m_cls_lbl_\u001b[39;49m\u001b[39m{\u001b[39;49;00myi\u001b[39m}\u001b[39;49;00m\u001b[39m.png\u001b[39;49m\u001b[39m\"\u001b[39;49m, dpi\u001b[39m=\u001b[39;49m\u001b[39m150\u001b[39;49m)\n\u001b[1;32m      <a href='vscode-notebook-cell:/home/fede/Documents/Tesis/Crypto_NetworkAnalysis/06_ClusterAnalysis_DTW.ipynb#X15sZmlsZQ%3D%3D?line=8'>9</a>\u001b[0m plt\u001b[39m.\u001b[39mshow()\n\u001b[1;32m     <a href='vscode-notebook-cell:/home/fede/Documents/Tesis/Crypto_NetworkAnalysis/06_ClusterAnalysis_DTW.ipynb#X15sZmlsZQ%3D%3D?line=9'>10</a>\u001b[0m plt\u001b[39m.\u001b[39mclose()\n",
      "File \u001b[0;32m~/anaconda3/envs/ts/lib/python3.11/site-packages/matplotlib/figure.py:3390\u001b[0m, in \u001b[0;36mFigure.savefig\u001b[0;34m(self, fname, transparent, **kwargs)\u001b[0m\n\u001b[1;32m   3388\u001b[0m     \u001b[39mfor\u001b[39;00m ax \u001b[39min\u001b[39;00m \u001b[39mself\u001b[39m\u001b[39m.\u001b[39maxes:\n\u001b[1;32m   3389\u001b[0m         _recursively_make_axes_transparent(stack, ax)\n\u001b[0;32m-> 3390\u001b[0m \u001b[39mself\u001b[39;49m\u001b[39m.\u001b[39;49mcanvas\u001b[39m.\u001b[39;49mprint_figure(fname, \u001b[39m*\u001b[39;49m\u001b[39m*\u001b[39;49mkwargs)\n",
      "File \u001b[0;32m~/anaconda3/envs/ts/lib/python3.11/site-packages/matplotlib/backend_bases.py:2187\u001b[0m, in \u001b[0;36mFigureCanvasBase.print_figure\u001b[0;34m(self, filename, dpi, facecolor, edgecolor, orientation, format, bbox_inches, pad_inches, bbox_extra_artists, backend, **kwargs)\u001b[0m\n\u001b[1;32m   2183\u001b[0m \u001b[39mtry\u001b[39;00m:\n\u001b[1;32m   2184\u001b[0m     \u001b[39m# _get_renderer may change the figure dpi (as vector formats\u001b[39;00m\n\u001b[1;32m   2185\u001b[0m     \u001b[39m# force the figure dpi to 72), so we need to set it again here.\u001b[39;00m\n\u001b[1;32m   2186\u001b[0m     \u001b[39mwith\u001b[39;00m cbook\u001b[39m.\u001b[39m_setattr_cm(\u001b[39mself\u001b[39m\u001b[39m.\u001b[39mfigure, dpi\u001b[39m=\u001b[39mdpi):\n\u001b[0;32m-> 2187\u001b[0m         result \u001b[39m=\u001b[39m print_method(\n\u001b[1;32m   2188\u001b[0m             filename,\n\u001b[1;32m   2189\u001b[0m             facecolor\u001b[39m=\u001b[39;49mfacecolor,\n\u001b[1;32m   2190\u001b[0m             edgecolor\u001b[39m=\u001b[39;49medgecolor,\n\u001b[1;32m   2191\u001b[0m             orientation\u001b[39m=\u001b[39;49morientation,\n\u001b[1;32m   2192\u001b[0m             bbox_inches_restore\u001b[39m=\u001b[39;49m_bbox_inches_restore,\n\u001b[1;32m   2193\u001b[0m             \u001b[39m*\u001b[39;49m\u001b[39m*\u001b[39;49mkwargs)\n\u001b[1;32m   2194\u001b[0m \u001b[39mfinally\u001b[39;00m:\n\u001b[1;32m   2195\u001b[0m     \u001b[39mif\u001b[39;00m bbox_inches \u001b[39mand\u001b[39;00m restore_bbox:\n",
      "File \u001b[0;32m~/anaconda3/envs/ts/lib/python3.11/site-packages/matplotlib/backend_bases.py:2043\u001b[0m, in \u001b[0;36mFigureCanvasBase._switch_canvas_and_return_print_method.<locals>.<lambda>\u001b[0;34m(*args, **kwargs)\u001b[0m\n\u001b[1;32m   2039\u001b[0m     optional_kws \u001b[39m=\u001b[39m {  \u001b[39m# Passed by print_figure for other renderers.\u001b[39;00m\n\u001b[1;32m   2040\u001b[0m         \u001b[39m\"\u001b[39m\u001b[39mdpi\u001b[39m\u001b[39m\"\u001b[39m, \u001b[39m\"\u001b[39m\u001b[39mfacecolor\u001b[39m\u001b[39m\"\u001b[39m, \u001b[39m\"\u001b[39m\u001b[39medgecolor\u001b[39m\u001b[39m\"\u001b[39m, \u001b[39m\"\u001b[39m\u001b[39morientation\u001b[39m\u001b[39m\"\u001b[39m,\n\u001b[1;32m   2041\u001b[0m         \u001b[39m\"\u001b[39m\u001b[39mbbox_inches_restore\u001b[39m\u001b[39m\"\u001b[39m}\n\u001b[1;32m   2042\u001b[0m     skip \u001b[39m=\u001b[39m optional_kws \u001b[39m-\u001b[39m {\u001b[39m*\u001b[39minspect\u001b[39m.\u001b[39msignature(meth)\u001b[39m.\u001b[39mparameters}\n\u001b[0;32m-> 2043\u001b[0m     print_method \u001b[39m=\u001b[39m functools\u001b[39m.\u001b[39mwraps(meth)(\u001b[39mlambda\u001b[39;00m \u001b[39m*\u001b[39margs, \u001b[39m*\u001b[39m\u001b[39m*\u001b[39mkwargs: meth(\n\u001b[1;32m   2044\u001b[0m         \u001b[39m*\u001b[39;49margs, \u001b[39m*\u001b[39;49m\u001b[39m*\u001b[39;49m{k: v \u001b[39mfor\u001b[39;49;00m k, v \u001b[39min\u001b[39;49;00m kwargs\u001b[39m.\u001b[39;49mitems() \u001b[39mif\u001b[39;49;00m k \u001b[39mnot\u001b[39;49;00m \u001b[39min\u001b[39;49;00m skip}))\n\u001b[1;32m   2045\u001b[0m \u001b[39melse\u001b[39;00m:  \u001b[39m# Let third-parties do as they see fit.\u001b[39;00m\n\u001b[1;32m   2046\u001b[0m     print_method \u001b[39m=\u001b[39m meth\n",
      "File \u001b[0;32m~/anaconda3/envs/ts/lib/python3.11/site-packages/matplotlib/backends/backend_agg.py:497\u001b[0m, in \u001b[0;36mFigureCanvasAgg.print_png\u001b[0;34m(self, filename_or_obj, metadata, pil_kwargs)\u001b[0m\n\u001b[1;32m    450\u001b[0m \u001b[39mdef\u001b[39;00m \u001b[39mprint_png\u001b[39m(\u001b[39mself\u001b[39m, filename_or_obj, \u001b[39m*\u001b[39m, metadata\u001b[39m=\u001b[39m\u001b[39mNone\u001b[39;00m, pil_kwargs\u001b[39m=\u001b[39m\u001b[39mNone\u001b[39;00m):\n\u001b[1;32m    451\u001b[0m \u001b[39m    \u001b[39m\u001b[39m\"\"\"\u001b[39;00m\n\u001b[1;32m    452\u001b[0m \u001b[39m    Write the figure to a PNG file.\u001b[39;00m\n\u001b[1;32m    453\u001b[0m \n\u001b[0;32m   (...)\u001b[0m\n\u001b[1;32m    495\u001b[0m \u001b[39m        *metadata*, including the default 'Software' key.\u001b[39;00m\n\u001b[1;32m    496\u001b[0m \u001b[39m    \"\"\"\u001b[39;00m\n\u001b[0;32m--> 497\u001b[0m     \u001b[39mself\u001b[39;49m\u001b[39m.\u001b[39;49m_print_pil(filename_or_obj, \u001b[39m\"\u001b[39;49m\u001b[39mpng\u001b[39;49m\u001b[39m\"\u001b[39;49m, pil_kwargs, metadata)\n",
      "File \u001b[0;32m~/anaconda3/envs/ts/lib/python3.11/site-packages/matplotlib/backends/backend_agg.py:446\u001b[0m, in \u001b[0;36mFigureCanvasAgg._print_pil\u001b[0;34m(self, filename_or_obj, fmt, pil_kwargs, metadata)\u001b[0m\n\u001b[1;32m    441\u001b[0m \u001b[39m\u001b[39m\u001b[39m\"\"\"\u001b[39;00m\n\u001b[1;32m    442\u001b[0m \u001b[39mDraw the canvas, then save it using `.image.imsave` (to which\u001b[39;00m\n\u001b[1;32m    443\u001b[0m \u001b[39m*pil_kwargs* and *metadata* are forwarded).\u001b[39;00m\n\u001b[1;32m    444\u001b[0m \u001b[39m\"\"\"\u001b[39;00m\n\u001b[1;32m    445\u001b[0m FigureCanvasAgg\u001b[39m.\u001b[39mdraw(\u001b[39mself\u001b[39m)\n\u001b[0;32m--> 446\u001b[0m mpl\u001b[39m.\u001b[39;49mimage\u001b[39m.\u001b[39;49mimsave(\n\u001b[1;32m    447\u001b[0m     filename_or_obj, \u001b[39mself\u001b[39;49m\u001b[39m.\u001b[39;49mbuffer_rgba(), \u001b[39mformat\u001b[39;49m\u001b[39m=\u001b[39;49mfmt, origin\u001b[39m=\u001b[39;49m\u001b[39m\"\u001b[39;49m\u001b[39mupper\u001b[39;49m\u001b[39m\"\u001b[39;49m,\n\u001b[1;32m    448\u001b[0m     dpi\u001b[39m=\u001b[39;49m\u001b[39mself\u001b[39;49m\u001b[39m.\u001b[39;49mfigure\u001b[39m.\u001b[39;49mdpi, metadata\u001b[39m=\u001b[39;49mmetadata, pil_kwargs\u001b[39m=\u001b[39;49mpil_kwargs)\n",
      "File \u001b[0;32m~/anaconda3/envs/ts/lib/python3.11/site-packages/matplotlib/image.py:1656\u001b[0m, in \u001b[0;36mimsave\u001b[0;34m(fname, arr, vmin, vmax, cmap, format, origin, dpi, metadata, pil_kwargs)\u001b[0m\n\u001b[1;32m   1654\u001b[0m pil_kwargs\u001b[39m.\u001b[39msetdefault(\u001b[39m\"\u001b[39m\u001b[39mformat\u001b[39m\u001b[39m\"\u001b[39m, \u001b[39mformat\u001b[39m)\n\u001b[1;32m   1655\u001b[0m pil_kwargs\u001b[39m.\u001b[39msetdefault(\u001b[39m\"\u001b[39m\u001b[39mdpi\u001b[39m\u001b[39m\"\u001b[39m, (dpi, dpi))\n\u001b[0;32m-> 1656\u001b[0m image\u001b[39m.\u001b[39;49msave(fname, \u001b[39m*\u001b[39;49m\u001b[39m*\u001b[39;49mpil_kwargs)\n",
      "File \u001b[0;32m~/anaconda3/envs/ts/lib/python3.11/site-packages/PIL/Image.py:2410\u001b[0m, in \u001b[0;36mImage.save\u001b[0;34m(self, fp, format, **params)\u001b[0m\n\u001b[1;32m   2408\u001b[0m         fp \u001b[39m=\u001b[39m builtins\u001b[39m.\u001b[39mopen(filename, \u001b[39m\"\u001b[39m\u001b[39mr+b\u001b[39m\u001b[39m\"\u001b[39m)\n\u001b[1;32m   2409\u001b[0m     \u001b[39melse\u001b[39;00m:\n\u001b[0;32m-> 2410\u001b[0m         fp \u001b[39m=\u001b[39m builtins\u001b[39m.\u001b[39;49mopen(filename, \u001b[39m\"\u001b[39;49m\u001b[39mw+b\u001b[39;49m\u001b[39m\"\u001b[39;49m)\n\u001b[1;32m   2412\u001b[0m \u001b[39mtry\u001b[39;00m:\n\u001b[1;32m   2413\u001b[0m     save_handler(\u001b[39mself\u001b[39m, fp, filename)\n",
      "\u001b[0;31mFileNotFoundError\u001b[0m: [Errno 2] No such file or directory: './tsl/plots/DTW_kmeans_cls_lbl_0.png'"
     ]
    },
    {
     "data": {
      "image/png": "[encoded data removed]",
      "text/plain": [
       "<Figure size 640x480 with 1 Axes>"
      ]
     },
     "metadata": {},
     "output_type": "display_data"
    }
   ],
   "source": [
    "for yi in range(N_CLUSTERS):\n",
    "    X_sub = X_train[y_pred == yi]\n",
    "    ts_cnt = pd.Series(y_pred[y_pred == yi]).shape[0]\n",
    "    fig = plt.figure()\n",
    "    plt.title(f\"{algo} | Cluster ID: {yi} | TS Count: {ts_cnt}\")\n",
    "    for xx in X_sub:\n",
    "        plt.plot(xx.ravel(), color='xkcd:sky blue', alpha=0.025)\n",
    "    fig.savefig(f\"./tsl/plots/{algo}_cls_lbl_{yi}.png\", dpi=150)\n",
    "    plt.show()\n",
    "    plt.close()"
   ]
  },
  {
   "cell_type": "code",
   "execution_count": null,
   "metadata": {},
   "outputs": [],
   "source": []
  }
 ],
 "metadata": {
  "kernelspec": {
   "display_name": "base",
   "language": "python",
   "name": "python3"
  },
  "language_info": {
   "codemirror_mode": {
    "name": "ipython",
    "version": 3
   },
   "file_extension": ".py",
   "mimetype": "text/x-python",
   "name": "python",
   "nbconvert_exporter": "python",
   "pygments_lexer": "ipython3",
   "version": "3.11.6"
  },
  "orig_nbformat": 4
 },
 "nbformat": 4,
 "nbformat_minor": 2
}
