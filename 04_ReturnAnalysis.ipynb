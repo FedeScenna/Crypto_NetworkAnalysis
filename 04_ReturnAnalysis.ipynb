{
 "cells": [
  {
   "cell_type": "code",
   "execution_count": 1,
   "metadata": {},
   "outputs": [
    {
     "ename": "ModuleNotFoundError",
     "evalue": "No module named 'networkx'",
     "output_type": "error",
     "traceback": [
      "\u001b[0;31m---------------------------------------------------------------------------\u001b[0m",
      "\u001b[0;31mModuleNotFoundError\u001b[0m                       Traceback (most recent call last)",
      "\u001b[1;32m/home/fede/Documents/Tesis/Crypto_NetworkAnalysis/04_ReturnAnalysis.ipynb Cell 1\u001b[0m line \u001b[0;36m4\n\u001b[1;32m      <a href='vscode-notebook-cell:/home/fede/Documents/Tesis/Crypto_NetworkAnalysis/04_ReturnAnalysis.ipynb#W0sZmlsZQ%3D%3D?line=1'>2</a>\u001b[0m \u001b[39mfrom\u001b[39;00m \u001b[39mipywidgets\u001b[39;00m \u001b[39mimport\u001b[39;00m interact, interactive, fixed, interact_manual\n\u001b[1;32m      <a href='vscode-notebook-cell:/home/fede/Documents/Tesis/Crypto_NetworkAnalysis/04_ReturnAnalysis.ipynb#W0sZmlsZQ%3D%3D?line=2'>3</a>\u001b[0m \u001b[39mimport\u001b[39;00m \u001b[39mipywidgets\u001b[39;00m \u001b[39mas\u001b[39;00m \u001b[39mwidgets\u001b[39;00m\n\u001b[0;32m----> <a href='vscode-notebook-cell:/home/fede/Documents/Tesis/Crypto_NetworkAnalysis/04_ReturnAnalysis.ipynb#W0sZmlsZQ%3D%3D?line=3'>4</a>\u001b[0m \u001b[39mimport\u001b[39;00m \u001b[39mnetworkx\u001b[39;00m \u001b[39mas\u001b[39;00m \u001b[39mnx\u001b[39;00m\n\u001b[1;32m      <a href='vscode-notebook-cell:/home/fede/Documents/Tesis/Crypto_NetworkAnalysis/04_ReturnAnalysis.ipynb#W0sZmlsZQ%3D%3D?line=4'>5</a>\u001b[0m \u001b[39mimport\u001b[39;00m \u001b[39mpandas\u001b[39;00m \u001b[39mas\u001b[39;00m \u001b[39mpd\u001b[39;00m\n\u001b[1;32m      <a href='vscode-notebook-cell:/home/fede/Documents/Tesis/Crypto_NetworkAnalysis/04_ReturnAnalysis.ipynb#W0sZmlsZQ%3D%3D?line=5'>6</a>\u001b[0m \u001b[39mimport\u001b[39;00m \u001b[39mmatplotlib\u001b[39;00m\u001b[39m.\u001b[39;00m\u001b[39mpyplot\u001b[39;00m \u001b[39mas\u001b[39;00m \u001b[39mplt\u001b[39;00m\n",
      "\u001b[0;31mModuleNotFoundError\u001b[0m: No module named 'networkx'"
     ]
    }
   ],
   "source": [
    "from __future__ import print_function\n",
    "from ipywidgets import interact, interactive, fixed, interact_manual\n",
    "import ipywidgets as widgets\n",
    "import pandas as pd\n",
    "import matplotlib.pyplot as plt\n",
    "import plotly.graph_objects as go\n",
    "import plotly.express as px\n",
    "import seaborn as sns\n",
    "import pymc as pm\n",
    "import numpy as np\n",
    "from constants import stablecoins\n",
    "from utils import create_graph #, plot_degree_distribution, edge_to_remove, girvan_newman"
   ]
  },
  {
   "cell_type": "markdown",
   "metadata": {},
   "source": [
    "### Load Data"
   ]
  },
  {
   "cell_type": "code",
   "execution_count": null,
   "metadata": {},
   "outputs": [
    {
     "ename": "",
     "evalue": "",
     "output_type": "error",
     "traceback": [
      "\u001b[1;31mRunning cells with 'pymc' requires the ipykernel package.\n",
      "\u001b[1;31mRun the following command to install 'ipykernel' into the Python environment. \n",
      "\u001b[1;31mCommand: 'conda install -n pymc ipykernel --update-deps --force-reinstall'"
     ]
    }
   ],
   "source": [
    "df = pd.read_csv(\"all_coins_data.csv\")"
   ]
  },
  {
   "cell_type": "code",
   "execution_count": null,
   "metadata": {},
   "outputs": [
    {
     "ename": "",
     "evalue": "",
     "output_type": "error",
     "traceback": [
      "\u001b[1;31mRunning cells with 'pymc' requires the ipykernel package.\n",
      "\u001b[1;31mRun the following command to install 'ipykernel' into the Python environment. \n",
      "\u001b[1;31mCommand: 'conda install -n pymc ipykernel --update-deps --force-reinstall'"
     ]
    }
   ],
   "source": [
    "#df = read_data(\"all_coins_data.csv\")\n",
    "nodes = list(set(df.coin))#Get unique list of coins\n",
    "volatile_coins = [n for n in nodes if nodes not in stablecoins]\n",
    "df[\"stablecoin\"] = [1 if c in stablecoins else 0 for c in df[\"coin\"]]\n",
    "df.to_csv(\"df_app_data.csv\", sep=\";\", index = False)\n",
    "df.head()"
   ]
  },
  {
   "cell_type": "code",
   "execution_count": null,
   "metadata": {},
   "outputs": [
    {
     "ename": "",
     "evalue": "",
     "output_type": "error",
     "traceback": [
      "\u001b[1;31mRunning cells with 'pymc' requires the ipykernel package.\n",
      "\u001b[1;31mRun the following command to install 'ipykernel' into the Python environment. \n",
      "\u001b[1;31mCommand: 'conda install -n pymc ipykernel --update-deps --force-reinstall'"
     ]
    }
   ],
   "source": [
    "df.head()"
   ]
  },
  {
   "cell_type": "markdown",
   "metadata": {},
   "source": [
    "#### Return Analysis"
   ]
  },
  {
   "cell_type": "code",
   "execution_count": null,
   "metadata": {},
   "outputs": [
    {
     "ename": "",
     "evalue": "",
     "output_type": "error",
     "traceback": [
      "\u001b[1;31mRunning cells with 'pymc' requires the ipykernel package.\n",
      "\u001b[1;31mRun the following command to install 'ipykernel' into the Python environment. \n",
      "\u001b[1;31mCommand: 'conda install -n pymc ipykernel --update-deps --force-reinstall'"
     ]
    }
   ],
   "source": [
    "df_return_wide = df[[\"time\", \"close\", \"coin\"]].pivot(index = \"time\",columns=\"coin\", values = \"close\").pct_change()\n",
    "df_return_wide.head()"
   ]
  },
  {
   "cell_type": "code",
   "execution_count": null,
   "metadata": {},
   "outputs": [
    {
     "ename": "",
     "evalue": "",
     "output_type": "error",
     "traceback": [
      "\u001b[1;31mRunning cells with 'pymc' requires the ipykernel package.\n",
      "\u001b[1;31mRun the following command to install 'ipykernel' into the Python environment. \n",
      "\u001b[1;31mCommand: 'conda install -n pymc ipykernel --update-deps --force-reinstall'"
     ]
    }
   ],
   "source": [
    "df[\"stablecoin\"] = [1 if c in stablecoins else 0 for c in df[\"coin\"]]\n",
    "df_long = pd.melt(df, id_vars=[\"coin\",\"time\", \"stablecoin\"], value_vars=[\"high\",\"low\",\"open\",\"volumefrom\",\"volumeto\",\"close\",\"daily_return_pct\",\"intraday_return\",\"daily_log_return\"], ignore_index=False).set_index(\"time\")\n",
    "df_long.head()"
   ]
  },
  {
   "cell_type": "code",
   "execution_count": null,
   "metadata": {},
   "outputs": [
    {
     "ename": "",
     "evalue": "",
     "output_type": "error",
     "traceback": [
      "\u001b[1;31mRunning cells with 'pymc' requires the ipykernel package.\n",
      "\u001b[1;31mRun the following command to install 'ipykernel' into the Python environment. \n",
      "\u001b[1;31mCommand: 'conda install -n pymc ipykernel --update-deps --force-reinstall'"
     ]
    }
   ],
   "source": [
    "#Stable coins\n",
    "fig = px.line(df_long[(df_long.variable == \"close\") & \n",
    "(df_long.stablecoin == 0)].reset_index()[[\"time\",\"coin\",\"value\"]], \n",
    "x = \"time\", y = \"value\", color = 'coin')\n",
    "fig.show()\n"
   ]
  },
  {
   "cell_type": "code",
   "execution_count": null,
   "metadata": {},
   "outputs": [
    {
     "ename": "",
     "evalue": "",
     "output_type": "error",
     "traceback": [
      "\u001b[1;31mRunning cells with 'pymc' requires the ipykernel package.\n",
      "\u001b[1;31mRun the following command to install 'ipykernel' into the Python environment. \n",
      "\u001b[1;31mCommand: 'conda install -n pymc ipykernel --update-deps --force-reinstall'"
     ]
    }
   ],
   "source": [
    "#Volatile coins\n",
    "fig = px.line(df_long[(df_long.variable == \"close\") & \n",
    "(df_long.stablecoin == 1)].reset_index()[[\"time\",\"coin\",\"value\"]], \n",
    "x = \"time\", y = \"value\", color = 'coin')\n",
    "fig.show()\n"
   ]
  },
  {
   "cell_type": "markdown",
   "metadata": {},
   "source": [
    "### Correlation Matrix"
   ]
  },
  {
   "cell_type": "code",
   "execution_count": null,
   "metadata": {},
   "outputs": [
    {
     "ename": "",
     "evalue": "",
     "output_type": "error",
     "traceback": [
      "\u001b[1;31mRunning cells with 'pymc' requires the ipykernel package.\n",
      "\u001b[1;31mRun the following command to install 'ipykernel' into the Python environment. \n",
      "\u001b[1;31mCommand: 'conda install -n pymc ipykernel --update-deps --force-reinstall'"
     ]
    }
   ],
   "source": [
    "plt.figure(figsize=(16, 6))\n",
    "heatmap = sns.heatmap(df_long[df_long[\"variable\"]==\"daily_log_return\"].reset_index().drop([\"variable\", \"stablecoin\"], axis = 1).pivot(index = \"time\",columns=\"coin\").corr(), \n",
    "                      vmin=-1, vmax=1, annot=True)\n",
    "heatmap.set_title('Correlation Heatmap', fontdict={'fontsize':12}, pad=12)"
   ]
  },
  {
   "cell_type": "code",
   "execution_count": null,
   "metadata": {},
   "outputs": [
    {
     "ename": "",
     "evalue": "",
     "output_type": "error",
     "traceback": [
      "\u001b[1;31mRunning cells with 'pymc' requires the ipykernel package.\n",
      "\u001b[1;31mRun the following command to install 'ipykernel' into the Python environment. \n",
      "\u001b[1;31mCommand: 'conda install -n pymc ipykernel --update-deps --force-reinstall'"
     ]
    }
   ],
   "source": [
    "corr_df = df_long[df_long[\"variable\"]==\"daily_log_return\"].drop([\"stablecoin\", \"variable\"], axis = 1).pivot(columns = \"coin\", values=\"value\").corr()\n",
    "corr_df = corr_df.unstack(level = 0).to_frame().rename(columns = {0:\"corr\"})\n",
    "corr_df = corr_df[corr_df[\"corr\"]!=1].reset_index(level=0).rename(columns={\"coin\":\"cointo\"}).reset_index().rename(columns = {\"coin\":\"coinfrom\"})"
   ]
  },
  {
   "cell_type": "code",
   "execution_count": null,
   "metadata": {},
   "outputs": [
    {
     "ename": "",
     "evalue": "",
     "output_type": "error",
     "traceback": [
      "\u001b[1;31mRunning cells with 'pymc' requires the ipykernel package.\n",
      "\u001b[1;31mRun the following command to install 'ipykernel' into the Python environment. \n",
      "\u001b[1;31mCommand: 'conda install -n pymc ipykernel --update-deps --force-reinstall'"
     ]
    }
   ],
   "source": [
    "corr_df"
   ]
  },
  {
   "cell_type": "code",
   "execution_count": null,
   "metadata": {},
   "outputs": [
    {
     "ename": "",
     "evalue": "",
     "output_type": "error",
     "traceback": [
      "\u001b[1;31mRunning cells with 'pymc' requires the ipykernel package.\n",
      "\u001b[1;31mRun the following command to install 'ipykernel' into the Python environment. \n",
      "\u001b[1;31mCommand: 'conda install -n pymc ipykernel --update-deps --force-reinstall'"
     ]
    }
   ],
   "source": [
    "a4_dims = (11.7, 8.27)\n",
    "fig, ax = plt.subplots(figsize=(a4_dims))\n",
    "sns.histplot(corr_df, x = \"corr\", bins = 100)\n",
    "corr_df[\"corr\"].describe()"
   ]
  }
 ],
 "metadata": {
  "interpreter": {
   "hash": "3730116740482dc9a19cfe036e6c5a1a419a0f588fef83cba6b8661c4646d572"
  },
  "kernelspec": {
   "display_name": "Python 3.10.2 ('proyectos')",
   "language": "python",
   "name": "python3"
  },
  "language_info": {
   "codemirror_mode": {
    "name": "ipython",
    "version": 3
   },
   "file_extension": ".py",
   "mimetype": "text/x-python",
   "name": "python",
   "nbconvert_exporter": "python",
   "pygments_lexer": "ipython3",
   "version": "3.11.6"
  },
  "metadata": {
   "interpreter": {
    "hash": "16cc685a692c52b16f902c0dfd151e07e9488e1f6f87e99a158b180d41a2f4b3"
   }
  }
 },
 "nbformat": 4,
 "nbformat_minor": 2
}
