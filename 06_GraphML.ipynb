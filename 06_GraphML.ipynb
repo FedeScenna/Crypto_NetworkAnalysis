{
 "cells": [
  {
   "cell_type": "code",
   "execution_count": null,
   "metadata": {},
   "outputs": [],
   "source": [
    "import pandas as pd\n",
    "import numpy as np\n",
    "from constants import stablecoins\n"
   ]
  },
  {
   "cell_type": "markdown",
   "metadata": {},
   "source": [
    "### Read Data\n"
   ]
  },
  {
   "cell_type": "code",
   "execution_count": null,
   "metadata": {},
   "outputs": [],
   "source": [
    "df = pd.read_csv(\"all_coins_data.csv\")\n",
    "df = df[[\"time\",\"daily_log_return\", \"coin\"]]\n",
    "#df = read_data(\"all_coins_data.csv\")\n",
    "nodes = list(set(df.coin))#Get unique list of coins\n",
    "volatile_coins = [n for n in nodes if nodes not in stablecoins]\n",
    "df[\"stablecoin\"] = [1 if c in stablecoins else 0 for c in df[\"coin\"]]\n",
    "df.head()"
   ]
  },
  {
   "cell_type": "code",
   "execution_count": null,
   "metadata": {},
   "outputs": [],
   "source": []
  }
 ],
 "metadata": {
  "language_info": {
   "name": "python"
  }
 },
 "nbformat": 4,
 "nbformat_minor": 2
}
