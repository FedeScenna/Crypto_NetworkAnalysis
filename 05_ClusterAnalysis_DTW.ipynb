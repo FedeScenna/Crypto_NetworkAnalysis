{
 "cells": [
  {
   "cell_type": "code",
   "execution_count": 35,
   "metadata": {},
   "outputs": [],
   "source": [
    "import numpy as np\n",
    "import pandas as pd\n",
    "import matplotlib.pyplot as plt\n",
    "from tslearn.utils import to_time_series_dataset\n",
    "from tslearn.preprocessing import TimeSeriesScalerMeanVariance\n",
    "from tslearn.clustering import TimeSeriesKMeans, silhouette_score\n",
    "from kneed import KneeLocator"
   ]
  },
  {
   "cell_type": "markdown",
   "metadata": {},
   "source": [
    "## Data processing"
   ]
  },
  {
   "attachments": {},
   "cell_type": "markdown",
   "metadata": {},
   "source": [
    "### Read data"
   ]
  },
  {
   "cell_type": "code",
   "execution_count": 36,
   "metadata": {},
   "outputs": [
    {
     "data": {
      "text/html": [
       "<div>\n",
       "<style scoped>\n",
       "    .dataframe tbody tr th:only-of-type {\n",
       "        vertical-align: middle;\n",
       "    }\n",
       "\n",
       "    .dataframe tbody tr th {\n",
       "        vertical-align: top;\n",
       "    }\n",
       "\n",
       "    .dataframe thead th {\n",
       "        text-align: right;\n",
       "    }\n",
       "</style>\n",
       "<table border=\"1\" class=\"dataframe\">\n",
       "  <thead>\n",
       "    <tr style=\"text-align: right;\">\n",
       "      <th></th>\n",
       "      <th>time</th>\n",
       "      <th>daily_log_return</th>\n",
       "      <th>coin</th>\n",
       "    </tr>\n",
       "  </thead>\n",
       "  <tbody>\n",
       "    <tr>\n",
       "      <th>0</th>\n",
       "      <td>2020-08-22</td>\n",
       "      <td>0.019340</td>\n",
       "      <td>ADA</td>\n",
       "    </tr>\n",
       "    <tr>\n",
       "      <th>1</th>\n",
       "      <td>2020-08-23</td>\n",
       "      <td>-0.030797</td>\n",
       "      <td>ADA</td>\n",
       "    </tr>\n",
       "    <tr>\n",
       "      <th>2</th>\n",
       "      <td>2020-08-24</td>\n",
       "      <td>0.017945</td>\n",
       "      <td>ADA</td>\n",
       "    </tr>\n",
       "    <tr>\n",
       "      <th>3</th>\n",
       "      <td>2020-08-25</td>\n",
       "      <td>-0.094018</td>\n",
       "      <td>ADA</td>\n",
       "    </tr>\n",
       "    <tr>\n",
       "      <th>4</th>\n",
       "      <td>2020-08-26</td>\n",
       "      <td>0.015859</td>\n",
       "      <td>ADA</td>\n",
       "    </tr>\n",
       "  </tbody>\n",
       "</table>\n",
       "</div>"
      ],
      "text/plain": [
       "         time  daily_log_return coin\n",
       "0  2020-08-22          0.019340  ADA\n",
       "1  2020-08-23         -0.030797  ADA\n",
       "2  2020-08-24          0.017945  ADA\n",
       "3  2020-08-25         -0.094018  ADA\n",
       "4  2020-08-26          0.015859  ADA"
      ]
     },
     "execution_count": 36,
     "metadata": {},
     "output_type": "execute_result"
    }
   ],
   "source": [
    "df = pd.read_csv(\"all_coins_data.csv\")\n",
    "df = df[[\"time\",\"daily_log_return\", \"coin\"]]\n",
    "df.head()\n"
   ]
  },
  {
   "cell_type": "code",
   "execution_count": 37,
   "metadata": {},
   "outputs": [
    {
     "data": {
      "text/html": [
       "<div>\n",
       "<style scoped>\n",
       "    .dataframe tbody tr th:only-of-type {\n",
       "        vertical-align: middle;\n",
       "    }\n",
       "\n",
       "    .dataframe tbody tr th {\n",
       "        vertical-align: top;\n",
       "    }\n",
       "\n",
       "    .dataframe thead th {\n",
       "        text-align: right;\n",
       "    }\n",
       "</style>\n",
       "<table border=\"1\" class=\"dataframe\">\n",
       "  <thead>\n",
       "    <tr style=\"text-align: right;\">\n",
       "      <th>time</th>\n",
       "      <th>2020-08-22</th>\n",
       "      <th>2020-08-23</th>\n",
       "      <th>2020-08-24</th>\n",
       "      <th>2020-08-25</th>\n",
       "      <th>2020-08-26</th>\n",
       "      <th>2020-08-27</th>\n",
       "      <th>2020-08-28</th>\n",
       "      <th>2020-08-29</th>\n",
       "      <th>2020-08-30</th>\n",
       "      <th>2020-08-31</th>\n",
       "      <th>...</th>\n",
       "      <th>2021-04-15</th>\n",
       "      <th>2021-04-16</th>\n",
       "      <th>2021-04-17</th>\n",
       "      <th>2021-04-18</th>\n",
       "      <th>2021-04-19</th>\n",
       "      <th>2021-04-20</th>\n",
       "      <th>2021-04-21</th>\n",
       "      <th>2021-04-22</th>\n",
       "      <th>2021-04-23</th>\n",
       "      <th>2021-04-24</th>\n",
       "    </tr>\n",
       "    <tr>\n",
       "      <th>coin</th>\n",
       "      <th></th>\n",
       "      <th></th>\n",
       "      <th></th>\n",
       "      <th></th>\n",
       "      <th></th>\n",
       "      <th></th>\n",
       "      <th></th>\n",
       "      <th></th>\n",
       "      <th></th>\n",
       "      <th></th>\n",
       "      <th></th>\n",
       "      <th></th>\n",
       "      <th></th>\n",
       "      <th></th>\n",
       "      <th></th>\n",
       "      <th></th>\n",
       "      <th></th>\n",
       "      <th></th>\n",
       "      <th></th>\n",
       "      <th></th>\n",
       "      <th></th>\n",
       "    </tr>\n",
       "  </thead>\n",
       "  <tbody>\n",
       "    <tr>\n",
       "      <th>ADA</th>\n",
       "      <td>0.019340</td>\n",
       "      <td>-0.030797</td>\n",
       "      <td>0.017945</td>\n",
       "      <td>-0.094018</td>\n",
       "      <td>0.015859</td>\n",
       "      <td>-0.064072</td>\n",
       "      <td>0.021209</td>\n",
       "      <td>0.061912</td>\n",
       "      <td>0.008540</td>\n",
       "      <td>0.041638</td>\n",
       "      <td>...</td>\n",
       "      <td>0.018412</td>\n",
       "      <td>-0.047035</td>\n",
       "      <td>-0.028009</td>\n",
       "      <td>-0.070920</td>\n",
       "      <td>-0.067096</td>\n",
       "      <td>0.059247</td>\n",
       "      <td>-0.052580</td>\n",
       "      <td>-0.050245</td>\n",
       "      <td>0.012153</td>\n",
       "      <td>-0.027111</td>\n",
       "    </tr>\n",
       "    <tr>\n",
       "      <th>ALGO</th>\n",
       "      <td>0.061710</td>\n",
       "      <td>0.083686</td>\n",
       "      <td>0.025879</td>\n",
       "      <td>-0.114357</td>\n",
       "      <td>-0.021398</td>\n",
       "      <td>-0.053381</td>\n",
       "      <td>0.023308</td>\n",
       "      <td>0.000562</td>\n",
       "      <td>-0.030216</td>\n",
       "      <td>-0.031357</td>\n",
       "      <td>...</td>\n",
       "      <td>0.071176</td>\n",
       "      <td>-0.041564</td>\n",
       "      <td>0.118078</td>\n",
       "      <td>-0.149741</td>\n",
       "      <td>-0.120610</td>\n",
       "      <td>0.000000</td>\n",
       "      <td>-0.065414</td>\n",
       "      <td>-0.038660</td>\n",
       "      <td>0.000857</td>\n",
       "      <td>-0.035734</td>\n",
       "    </tr>\n",
       "    <tr>\n",
       "      <th>ATOM</th>\n",
       "      <td>0.136226</td>\n",
       "      <td>0.283939</td>\n",
       "      <td>-0.039202</td>\n",
       "      <td>0.022299</td>\n",
       "      <td>-0.083755</td>\n",
       "      <td>-0.056663</td>\n",
       "      <td>0.037690</td>\n",
       "      <td>-0.039612</td>\n",
       "      <td>0.048555</td>\n",
       "      <td>-0.058083</td>\n",
       "      <td>...</td>\n",
       "      <td>0.027688</td>\n",
       "      <td>-0.086652</td>\n",
       "      <td>-0.044879</td>\n",
       "      <td>-0.128392</td>\n",
       "      <td>-0.107122</td>\n",
       "      <td>0.099639</td>\n",
       "      <td>-0.082158</td>\n",
       "      <td>-0.044290</td>\n",
       "      <td>0.090114</td>\n",
       "      <td>-0.045315</td>\n",
       "    </tr>\n",
       "    <tr>\n",
       "      <th>BCH</th>\n",
       "      <td>0.013840</td>\n",
       "      <td>-0.007142</td>\n",
       "      <td>0.021790</td>\n",
       "      <td>-0.052907</td>\n",
       "      <td>-0.003777</td>\n",
       "      <td>-0.037703</td>\n",
       "      <td>0.015743</td>\n",
       "      <td>-0.002197</td>\n",
       "      <td>0.040682</td>\n",
       "      <td>-0.020645</td>\n",
       "      <td>...</td>\n",
       "      <td>0.061542</td>\n",
       "      <td>0.243818</td>\n",
       "      <td>-0.109446</td>\n",
       "      <td>-0.016340</td>\n",
       "      <td>-0.089443</td>\n",
       "      <td>0.054295</td>\n",
       "      <td>-0.033778</td>\n",
       "      <td>-0.063267</td>\n",
       "      <td>-0.016707</td>\n",
       "      <td>-0.027415</td>\n",
       "    </tr>\n",
       "    <tr>\n",
       "      <th>BNB</th>\n",
       "      <td>0.007227</td>\n",
       "      <td>-0.016792</td>\n",
       "      <td>0.034191</td>\n",
       "      <td>-0.054534</td>\n",
       "      <td>0.037135</td>\n",
       "      <td>0.040138</td>\n",
       "      <td>-0.001731</td>\n",
       "      <td>-0.005211</td>\n",
       "      <td>0.028751</td>\n",
       "      <td>-0.020945</td>\n",
       "      <td>...</td>\n",
       "      <td>-0.012386</td>\n",
       "      <td>-0.063653</td>\n",
       "      <td>0.012574</td>\n",
       "      <td>-0.067041</td>\n",
       "      <td>0.045586</td>\n",
       "      <td>0.154173</td>\n",
       "      <td>-0.079246</td>\n",
       "      <td>-0.073323</td>\n",
       "      <td>0.042354</td>\n",
       "      <td>-0.026840</td>\n",
       "    </tr>\n",
       "  </tbody>\n",
       "</table>\n",
       "<p>5 rows × 246 columns</p>\n",
       "</div>"
      ],
      "text/plain": [
       "time  2020-08-22  2020-08-23  2020-08-24  2020-08-25  2020-08-26  2020-08-27  \\\n",
       "coin                                                                           \n",
       "ADA     0.019340   -0.030797    0.017945   -0.094018    0.015859   -0.064072   \n",
       "ALGO    0.061710    0.083686    0.025879   -0.114357   -0.021398   -0.053381   \n",
       "ATOM    0.136226    0.283939   -0.039202    0.022299   -0.083755   -0.056663   \n",
       "BCH     0.013840   -0.007142    0.021790   -0.052907   -0.003777   -0.037703   \n",
       "BNB     0.007227   -0.016792    0.034191   -0.054534    0.037135    0.040138   \n",
       "\n",
       "time  2020-08-28  2020-08-29  2020-08-30  2020-08-31  ...  2021-04-15  \\\n",
       "coin                                                  ...               \n",
       "ADA     0.021209    0.061912    0.008540    0.041638  ...    0.018412   \n",
       "ALGO    0.023308    0.000562   -0.030216   -0.031357  ...    0.071176   \n",
       "ATOM    0.037690   -0.039612    0.048555   -0.058083  ...    0.027688   \n",
       "BCH     0.015743   -0.002197    0.040682   -0.020645  ...    0.061542   \n",
       "BNB    -0.001731   -0.005211    0.028751   -0.020945  ...   -0.012386   \n",
       "\n",
       "time  2021-04-16  2021-04-17  2021-04-18  2021-04-19  2021-04-20  2021-04-21  \\\n",
       "coin                                                                           \n",
       "ADA    -0.047035   -0.028009   -0.070920   -0.067096    0.059247   -0.052580   \n",
       "ALGO   -0.041564    0.118078   -0.149741   -0.120610    0.000000   -0.065414   \n",
       "ATOM   -0.086652   -0.044879   -0.128392   -0.107122    0.099639   -0.082158   \n",
       "BCH     0.243818   -0.109446   -0.016340   -0.089443    0.054295   -0.033778   \n",
       "BNB    -0.063653    0.012574   -0.067041    0.045586    0.154173   -0.079246   \n",
       "\n",
       "time  2021-04-22  2021-04-23  2021-04-24  \n",
       "coin                                      \n",
       "ADA    -0.050245    0.012153   -0.027111  \n",
       "ALGO   -0.038660    0.000857   -0.035734  \n",
       "ATOM   -0.044290    0.090114   -0.045315  \n",
       "BCH    -0.063267   -0.016707   -0.027415  \n",
       "BNB    -0.073323    0.042354   -0.026840  \n",
       "\n",
       "[5 rows x 246 columns]"
      ]
     },
     "execution_count": 37,
     "metadata": {},
     "output_type": "execute_result"
    }
   ],
   "source": [
    "df_pivoted = df.pivot(index=\"coin\", columns=\"time\", values=\"daily_log_return\")\n",
    "df_pivoted.head()"
   ]
  },
  {
   "cell_type": "markdown",
   "metadata": {},
   "source": [
    "### Normalize Series"
   ]
  },
  {
   "cell_type": "code",
   "execution_count": 38,
   "metadata": {},
   "outputs": [],
   "source": [
    "# convert dataframe to time_series_dataset\n",
    "X = to_time_series_dataset(df_pivoted.values)\n",
    "\n",
    "# normalize time series to zero mean and unit variance\n",
    "X_train = TimeSeriesScalerMeanVariance().fit_transform(X)\n"
   ]
  },
  {
   "cell_type": "markdown",
   "metadata": {},
   "source": [
    "### Clustering"
   ]
  },
  {
   "cell_type": "code",
   "execution_count": 46,
   "metadata": {},
   "outputs": [
    {
     "name": "stdout",
     "output_type": "stream",
     "text": [
      "\n"
     ]
    },
    {
     "data": {
      "image/png": "[encoded data removed]",
      "text/plain": [
       "<Figure size 2000x1000 with 1 Axes>"
      ]
     },
     "metadata": {},
     "output_type": "display_data"
    }
   ],
   "source": [
    "algo = \"DTW_kmeans\"\n",
    "metric = \"dtw\"\n",
    "\n",
    "wcss = []\n",
    "\n",
    "for i in range(1,10):\n",
    "    model= TimeSeriesKMeans(n_clusters=i,metric=metric,n_jobs=-1,random_state=0)\n",
    "    model.fit_predict(X_train)\n",
    "    wcss.append(model.inertia_)\n",
    "\n",
    "kneedle = KneeLocator(x = range(1, 10), y = wcss, curve=\"concave\", direction=\"decreasing\", online = True)\n",
    "print()\n",
    "\n",
    "plt.figure(figsize=(20,10))\n",
    "plt.grid()\n",
    "plt.plot(range(1,10),wcss,marker='o',linestyle='--')\n",
    "plt.axvline(x=kneedle.knee, color = \"red\")\n",
    "plt.xlabel('number of clusters')\n",
    "plt.ylabel('WCSSS');"
   ]
  },
  {
   "cell_type": "markdown",
   "metadata": {},
   "source": [
    "### Clustering selection"
   ]
  },
  {
   "cell_type": "code",
   "execution_count": 42,
   "metadata": {},
   "outputs": [],
   "source": [
    "algo = \"DTW_kmeans\"\n",
    "metric = \"dtw\"\n",
    "\n",
    "# cluster configuration\n",
    "N_CLUSTERS = 5\n",
    "\n",
    "model= TimeSeriesKMeans(n_clusters=N_CLUSTERS,\n",
    "                        metric=metric,\n",
    "                        n_jobs=-1,\n",
    "                        random_state=0)\n",
    "\n",
    "y_pred = model.fit_predict(X_train)\n"
   ]
  },
  {
   "cell_type": "code",
   "execution_count": 43,
   "metadata": {},
   "outputs": [
    {
     "data": {
      "text/plain": [
       "array([0, 3, 3, 0, 0, 0, 1, 4, 0, 2, 1, 0, 3, 0, 0, 1, 1, 2, 4, 2, 0, 3,\n",
       "       1, 0, 0, 0, 0, 0, 0, 3, 3, 0, 1, 1, 4, 4, 0, 1, 0, 2, 0, 0, 0, 1,\n",
       "       0])"
      ]
     },
     "execution_count": 43,
     "metadata": {},
     "output_type": "execute_result"
    }
   ],
   "source": [
    "y_pred"
   ]
  }
 ],
 "metadata": {
  "kernelspec": {
   "display_name": "base",
   "language": "python",
   "name": "python3"
  },
  "language_info": {
   "codemirror_mode": {
    "name": "ipython",
    "version": 3
   },
   "file_extension": ".py",
   "mimetype": "text/x-python",
   "name": "python",
   "nbconvert_exporter": "python",
   "pygments_lexer": "ipython3",
   "version": "3.11.6"
  },
  "orig_nbformat": 4
 },
 "nbformat": 4,
 "nbformat_minor": 2
}
